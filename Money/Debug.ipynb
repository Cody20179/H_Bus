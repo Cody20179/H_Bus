{
 "cells": [
  {
   "cell_type": "markdown",
   "id": "8573b928",
   "metadata": {},
   "source": [
    "# SQL\n"
   ]
  },
  {
   "cell_type": "code",
   "execution_count": null,
   "id": "31925ff4",
   "metadata": {},
   "outputs": [],
   "source": [
    "import qrcode\n",
    "import os\n",
    "\n",
    "def generate_qr_codes(base_url, route_id, stop_count, out_dir=\"qrcodes\"):\n",
    "    os.makedirs(out_dir, exist_ok=True)\n",
    "\n",
    "    for stop_order in range(1, stop_count + 1):\n",
    "        url = f\"{base_url}/routes/{route_id}/stop/{stop_order}\"\n",
    "        img = qrcode.make(url)\n",
    "        filename = os.path.join(out_dir, f\"route{route_id}_stop{stop_order}.png\")\n",
    "        img.save(filename)\n",
    "        print(\"已產生:\", filename, \"→\", url)\n",
    "\n",
    "# 使用範例\n",
    "if __name__ == \"__main__\":\n",
    "    # 你的 ngrok host，或正式網域\n",
    "    base = \"https://f1c2fbf338af.ngrok-free.app\"\n",
    "    generate_qr_codes(base_url=base, route_id=2, stop_count=8)\n"
   ]
  },
  {
   "cell_type": "code",
   "execution_count": 1,
   "id": "f9215dc0",
   "metadata": {},
   "outputs": [
    {
     "name": "stdout",
     "output_type": "stream",
     "text": [
      "加密後 TransactionData: LwIo/f0GsJQ1mLLlWKTqJsoi5qsxSApZKfjpXToaReHNFDMcw560TLVvIOVcIt6NDQyc8YwnCu8tECEJaTJqG1FP1rI/0wYlJeQR1p1Dw8CqA84ySf6IrrHROz3beuJ3QiZF7sYbCxglkz/jbpr9RxfUrt9RQQ8zf3ZmAcWLeMs9J6ryCBIfx+p3XWEk2T0jXyFz/um3DAOK9miKcbQpeA==\n",
      "校驗碼 HashDigest: 98c15532d725f6135887ce75b867333697f89406bd253fe25192768854434556\n",
      "請求網址： https://iqrc.epay365.com.tw/calc/pay_encrypt/e4f76eb8-d236-45fb-984b-92b2d1912492\n",
      "GET 參數： {'TransactionData': 'LwIo/f0GsJQ1mLLlWKTqJsoi5qsxSApZKfjpXToaReHNFDMcw560TLVvIOVcIt6NDQyc8YwnCu8tECEJaTJqG1FP1rI/0wYlJeQR1p1Dw8CqA84ySf6IrrHROz3beuJ3QiZF7sYbCxglkz/jbpr9RxfUrt9RQQ8zf3ZmAcWLeMs9J6ryCBIfx%2Bp3XWEk2T0jXyFz/um3DAOK9miKcbQpeA%3D%3D', 'HashDigest': '98c15532d725f6135887ce75b867333697f89406bd253fe25192768854434556'}\n"
     ]
    }
   ],
   "source": [
    "from base64 import b64encode, b64decode\n",
    "from Crypto.Cipher import AES\n",
    "from urllib.parse import quote\n",
    "from dotenv import load_dotenv\n",
    "import requests, os, json, hashlib\n",
    "\n",
    "load_dotenv()\n",
    "\n",
    "# ==== 環境參數 ====\n",
    "MERCHANT_ID = os.getenv(\"MERCHANT_ID\", \"123\")   # RG商代\n",
    "TERMINAL_ID = os.getenv(\"TERMINAL_ID\", \"123\")   # RG端代\n",
    "STORE_CODE  = os.getenv(\"STORE_CODE\", \"123\")    # 店家識別碼\n",
    "KEY_HEX     = os.getenv(\"KEY\", \"\")              # 端末設備Key (hex)\n",
    "IV_HEX      = os.getenv(\"IV\", \"\")               # 端末設備IV (hex)\n",
    "LAYMON      = os.getenv(\"LAYMON\", \"api.test.com\")  # 雷門支付 API 主機\n",
    "\n",
    "KEY = bytes.fromhex(KEY_HEX)\n",
    "IV  = bytes.fromhex(IV_HEX)\n",
    "\n",
    "# ==== 測試交易資料 ====\n",
    "payload = {\n",
    "    \"set_price\": \"100\",\n",
    "    \"pos_order_number\": \"TEST12345\",   # 自訂訂單編號，不可重複\n",
    "    \"callback_url\": \"https://yourdomain.com/callback\",\n",
    "    \"return_url\": \"https://yourdomain.com/return\"\n",
    "}\n",
    "\n",
    "# --- AES256-CBC 加解密 ---\n",
    "def pad(s):\n",
    "    pad_len = 16 - (len(s) % 16)\n",
    "    return s + chr(pad_len) * pad_len\n",
    "\n",
    "def unpad(s):\n",
    "    return s[:-ord(s[-1])]\n",
    "\n",
    "def encrypt_aes(data: str, key: bytes, iv: bytes) -> str:\n",
    "    cipher = AES.new(key, AES.MODE_CBC, iv)\n",
    "    ct_bytes = cipher.encrypt(pad(data).encode(\"utf-8\"))\n",
    "    return b64encode(ct_bytes).decode(\"utf-8\")\n",
    "\n",
    "def decrypt_aes(enc: str, key: bytes, iv: bytes) -> str:\n",
    "    cipher = AES.new(key, AES.MODE_CBC, iv)\n",
    "    pt = cipher.decrypt(b64decode(enc))\n",
    "    return unpad(pt.decode(\"utf-8\"))\n",
    "\n",
    "# --- 加密交易資料 ---\n",
    "json_str = json.dumps(payload, separators=(',', ':'))\n",
    "TransactionData = encrypt_aes(json_str, KEY, IV)\n",
    "HashDigest = hashlib.sha256(TransactionData.encode(\"utf-8\")).hexdigest()\n",
    "\n",
    "print(\"加密後 TransactionData:\", TransactionData)\n",
    "print(\"校驗碼 HashDigest:\", HashDigest)\n",
    "\n",
    "# --- 發送 API (線上付款) ---\n",
    "url = f\"https://{LAYMON}/calc/pay_encrypt/{STORE_CODE}\"\n",
    "params = {\n",
    "    \"TransactionData\": quote(TransactionData),  # URL encode\n",
    "    \"HashDigest\": HashDigest\n",
    "}\n",
    "\n",
    "print(\"請求網址：\", url)\n",
    "print(\"GET 參數：\", params)\n",
    "\n",
    "# ⚠️ 測試時建議先只列印，不要真的發送\n",
    "# response = requests.get(url, params=params)\n",
    "# print(response.text)\n"
   ]
  }
 ],
 "metadata": {
  "kernelspec": {
   "display_name": "python311",
   "language": "python",
   "name": "python3"
  },
  "language_info": {
   "codemirror_mode": {
    "name": "ipython",
    "version": 3
   },
   "file_extension": ".py",
   "mimetype": "text/x-python",
   "name": "python",
   "nbconvert_exporter": "python",
   "pygments_lexer": "ipython3",
   "version": "3.11.3"
  }
 },
 "nbformat": 4,
 "nbformat_minor": 5
}
