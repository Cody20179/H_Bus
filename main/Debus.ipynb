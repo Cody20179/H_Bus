{
 "cells": [
  {
   "cell_type": "code",
   "execution_count": null,
   "id": "ba467b62",
   "metadata": {},
   "outputs": [],
   "source": [
    "from MySQL import MySQL_Run, Infor\n",
    "import pandas as pd\n",
    "\n",
    "Infor = {'host': '192.168.0.126',\n",
    " 'user': 'root',\n",
    " 'port': 3307,\n",
    " 'password': '109109',\n",
    " 'database': 'bus_system',\n",
    " }\n",
    "\n",
    "MySQL_Run(\"show tables\", Parameter = Infor)"
   ]
  },
  {
   "cell_type": "code",
   "execution_count": null,
   "id": "27a9a8b5",
   "metadata": {},
   "outputs": [
    {
     "data": {
      "text/plain": [
       "'Query executed.'"
      ]
     },
     "execution_count": 20,
     "metadata": {},
     "output_type": "execute_result"
    }
   ],
   "source": [
    "# Create\n",
    "\n",
    "MySQL_Run(\"\"\"\n",
    "CREATE TABLE login_state (\n",
    "    state VARCHAR(255) PRIMARY KEY,\n",
    "    verifier TEXT NOT NULL,\n",
    "    return_to TEXT,\n",
    "    created_at TIMESTAMP DEFAULT CURRENT_TIMESTAMP\n",
    ");\n",
    "\"\"\")"
   ]
  },
  {
   "cell_type": "code",
   "execution_count": null,
   "id": "fbdd1ab5",
   "metadata": {},
   "outputs": [],
   "source": [
    "# Search\n",
    "\n",
    "Users = MySQL_Run(\"select * from login_state\", Parameter = Infor)\n",
    "Users = pd.DataFrame(Users)\n",
    "Users.tail()"
   ]
  },
  {
   "cell_type": "code",
   "execution_count": null,
   "id": "54767d49",
   "metadata": {},
   "outputs": [],
   "source": [
    "import pandas as pd\n",
    "\n",
    "def whoami(lineid):\n",
    "    Users = MySQL_Run(f\"select * from users where line_id = '{lineid}'\")\n",
    "    Users = pd.DataFrame(Users)\n",
    "    if len(Users) == 0:\n",
    "        return \"None\"\n",
    "    else:\n",
    "        return Users.iloc[0].to_dict()\n",
    "    \n",
    "df = whoami(\"Ufbcae02cac062d99d8bee745a0b4fc97\")\n",
    "df"
   ]
  },
  {
   "cell_type": "code",
   "execution_count": null,
   "id": "0561555a",
   "metadata": {},
   "outputs": [],
   "source": [
    "# MySQL_Run(\"\"\"\n",
    "# DROP TABLE IF EXISTS users_Test;\n",
    "# \"\"\")\n",
    "\n",
    "# MySQL_Run(\"\"\"\n",
    "# CREATE TABLE users_Test (\n",
    "#     user_id INT(11) NOT NULL AUTO_INCREMENT PRIMARY KEY,\n",
    "#     line_id VARCHAR(100) UNIQUE,\n",
    "#     username VARCHAR(100) NOT NULL,\n",
    "#     email VARCHAR(255),\n",
    "#     phone VARCHAR(20) NULL,\n",
    "#     created_at TIMESTAMP NOT NULL DEFAULT CURRENT_TIMESTAMP,\n",
    "#     updated_at TIMESTAMP NOT NULL DEFAULT CURRENT_TIMESTAMP ON UPDATE CURRENT_TIMESTAMP,\n",
    "#     last_login TIMESTAMP NULL,\n",
    "#     status ENUM('active','inactive') NOT NULL DEFAULT 'active',\n",
    "#     reservation_status ENUM('no_reservation','pending','approved','rejected')\n",
    "#         NOT NULL DEFAULT 'no_reservation',\n",
    "#     preferences MEDIUMTEXT,\n",
    "#     privacy_settings MEDIUMTEXT\n",
    "# ) ENGINE=InnoDB DEFAULT CHARSET=utf8mb4;\n",
    "# \"\"\")\n",
    "\n",
    "MySQL_Run(\"\"\"\n",
    "ALTER TABLE users ADD COLUMN session_token VARCHAR(255);\n",
    "\"\"\")"
   ]
  },
  {
   "cell_type": "code",
   "execution_count": null,
   "id": "4384d872",
   "metadata": {},
   "outputs": [],
   "source": [
    "# Descript\n",
    "\n",
    "Users = MySQL_Run(\"desc users\")\n",
    "Users = pd.DataFrame(Users)\n",
    "Users"
   ]
  },
  {
   "cell_type": "code",
   "execution_count": 1,
   "id": "7bf70f80",
   "metadata": {},
   "outputs": [
    {
     "data": {
      "text/plain": [
       "'Query executed.'"
      ]
     },
     "execution_count": 1,
     "metadata": {},
     "output_type": "execute_result"
    }
   ],
   "source": [
    "from MySQL import MySQL_Run\n",
    "\n",
    "LineID = 'Uxxxxxxxxxxx3'\n",
    "UserName = 'Test01'\n",
    "\n",
    "Results = MySQL_Run(f\"\"\"\n",
    "INSERT INTO users (line_id, username)\n",
    "VALUES ('{LineID}', '{UserName}');\n",
    "\"\"\")\n",
    "\n",
    "Results"
   ]
  },
  {
   "cell_type": "code",
   "execution_count": 43,
   "id": "2d372323",
   "metadata": {},
   "outputs": [
    {
     "data": {
      "text/html": [
       "<div>\n",
       "<style scoped>\n",
       "    .dataframe tbody tr th:only-of-type {\n",
       "        vertical-align: middle;\n",
       "    }\n",
       "\n",
       "    .dataframe tbody tr th {\n",
       "        vertical-align: top;\n",
       "    }\n",
       "\n",
       "    .dataframe thead th {\n",
       "        text-align: right;\n",
       "    }\n",
       "</style>\n",
       "<table border=\"1\" class=\"dataframe\">\n",
       "  <thead>\n",
       "    <tr style=\"text-align: right;\">\n",
       "      <th></th>\n",
       "      <th>user_id</th>\n",
       "      <th>line_id</th>\n",
       "      <th>username</th>\n",
       "      <th>password</th>\n",
       "      <th>email</th>\n",
       "      <th>phone</th>\n",
       "      <th>created_at</th>\n",
       "      <th>updated_at</th>\n",
       "      <th>last_login</th>\n",
       "      <th>status</th>\n",
       "      <th>reservation_status</th>\n",
       "      <th>preferences</th>\n",
       "      <th>privacy_settings</th>\n",
       "      <th>session_token</th>\n",
       "    </tr>\n",
       "  </thead>\n",
       "  <tbody>\n",
       "    <tr>\n",
       "      <th>0</th>\n",
       "      <td>124</td>\n",
       "      <td>Ufbcae02cac062d99d8bee745a0b4fc97</td>\n",
       "      <td>陳泰霖</td>\n",
       "      <td></td>\n",
       "      <td>None</td>\n",
       "      <td>None</td>\n",
       "      <td>2025-09-14 01:12:07</td>\n",
       "      <td>2025-09-14 01:12:07</td>\n",
       "      <td>2025-09-14 01:12:07</td>\n",
       "      <td>active</td>\n",
       "      <td>no_reservation</td>\n",
       "      <td>None</td>\n",
       "      <td>None</td>\n",
       "      <td>eyJ1aWQiOiJVZmJjYWUwMmNhYzA2MmQ5OWQ4YmVlNzQ1YT...</td>\n",
       "    </tr>\n",
       "  </tbody>\n",
       "</table>\n",
       "</div>"
      ],
      "text/plain": [
       "   user_id                            line_id username password email phone  \\\n",
       "0      124  Ufbcae02cac062d99d8bee745a0b4fc97      陳泰霖           None  None   \n",
       "\n",
       "           created_at          updated_at          last_login  status  \\\n",
       "0 2025-09-14 01:12:07 2025-09-14 01:12:07 2025-09-14 01:12:07  active   \n",
       "\n",
       "  reservation_status preferences privacy_settings  \\\n",
       "0     no_reservation        None             None   \n",
       "\n",
       "                                       session_token  \n",
       "0  eyJ1aWQiOiJVZmJjYWUwMmNhYzA2MmQ5OWQ4YmVlNzQ1YT...  "
      ]
     },
     "execution_count": 43,
     "metadata": {},
     "output_type": "execute_result"
    }
   ],
   "source": [
    "from MySQL import MySQL_Run\n",
    "import pandas as pd\n",
    "\n",
    "Users = MySQL_Run(\"select * from users where line_id = 'Ufbcae02cac062d99d8bee745a0b4fc97'\")\n",
    "Users = pd.DataFrame(Users)\n",
    "Users.tail()"
   ]
  },
  {
   "cell_type": "code",
   "execution_count": null,
   "id": "44feac73",
   "metadata": {},
   "outputs": [],
   "source": []
  }
 ],
 "metadata": {
  "kernelspec": {
   "display_name": "python311",
   "language": "python",
   "name": "python3"
  },
  "language_info": {
   "codemirror_mode": {
    "name": "ipython",
    "version": 3
   },
   "file_extension": ".py",
   "mimetype": "text/x-python",
   "name": "python",
   "nbconvert_exporter": "python",
   "pygments_lexer": "ipython3",
   "version": "3.11.3"
  }
 },
 "nbformat": 4,
 "nbformat_minor": 5
}
