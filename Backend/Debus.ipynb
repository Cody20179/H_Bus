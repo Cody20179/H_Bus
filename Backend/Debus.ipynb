{
 "cells": [
  {
   "cell_type": "markdown",
   "id": "8573b928",
   "metadata": {},
   "source": [
    "# SQL\n"
   ]
  },
  {
   "cell_type": "code",
   "execution_count": 21,
   "id": "0bf4db46",
   "metadata": {},
   "outputs": [
    {
     "data": {
      "text/html": [
       "<div>\n",
       "<style scoped>\n",
       "    .dataframe tbody tr th:only-of-type {\n",
       "        vertical-align: middle;\n",
       "    }\n",
       "\n",
       "    .dataframe tbody tr th {\n",
       "        vertical-align: top;\n",
       "    }\n",
       "\n",
       "    .dataframe thead th {\n",
       "        text-align: right;\n",
       "    }\n",
       "</style>\n",
       "<table border=\"1\" class=\"dataframe\">\n",
       "  <thead>\n",
       "    <tr style=\"text-align: right;\">\n",
       "      <th></th>\n",
       "      <th>user_id</th>\n",
       "      <th>line_id</th>\n",
       "      <th>username</th>\n",
       "      <th>password</th>\n",
       "      <th>email</th>\n",
       "      <th>phone</th>\n",
       "      <th>created_at</th>\n",
       "      <th>updated_at</th>\n",
       "      <th>last_login</th>\n",
       "      <th>status</th>\n",
       "      <th>reservation_status</th>\n",
       "      <th>preferences</th>\n",
       "      <th>privacy_settings</th>\n",
       "      <th>session_token</th>\n",
       "    </tr>\n",
       "  </thead>\n",
       "  <tbody>\n",
       "    <tr>\n",
       "      <th>0</th>\n",
       "      <td>132</td>\n",
       "      <td>Ufbcae02cac062d99d8bee745a0b4fc97</td>\n",
       "      <td>陳泰霖</td>\n",
       "      <td></td>\n",
       "      <td>Cody20179@gmail.com</td>\n",
       "      <td>0919000660</td>\n",
       "      <td>2025-09-14 20:07:49</td>\n",
       "      <td>2025-09-19 17:33:20</td>\n",
       "      <td>2025-09-19 17:33:20</td>\n",
       "      <td>active</td>\n",
       "      <td>no_reservation</td>\n",
       "      <td>None</td>\n",
       "      <td>None</td>\n",
       "      <td>eyJ1aWQiOiJVZmJjYWUwMmNhYzA2MmQ5OWQ4YmVlNzQ1YT...</td>\n",
       "    </tr>\n",
       "  </tbody>\n",
       "</table>\n",
       "</div>"
      ],
      "text/plain": [
       "   user_id                            line_id username password  \\\n",
       "0      132  Ufbcae02cac062d99d8bee745a0b4fc97      陳泰霖            \n",
       "\n",
       "                 email       phone          created_at          updated_at  \\\n",
       "0  Cody20179@gmail.com  0919000660 2025-09-14 20:07:49 2025-09-19 17:33:20   \n",
       "\n",
       "           last_login  status reservation_status preferences privacy_settings  \\\n",
       "0 2025-09-19 17:33:20  active     no_reservation        None             None   \n",
       "\n",
       "                                       session_token  \n",
       "0  eyJ1aWQiOiJVZmJjYWUwMmNhYzA2MmQ5OWQ4YmVlNzQ1YT...  "
      ]
     },
     "execution_count": 21,
     "metadata": {},
     "output_type": "execute_result"
    }
   ],
   "source": [
    "from MySQL import MySQL_Run\n",
    "import pandas as pd\n",
    "\n",
    "Show_T = \"show tables\"\n",
    "Select = f\"select * from users where user_id = '132';\"\n",
    "Select_Sent = f\"\"\"SELECT *\n",
    "FROM reservation\n",
    "WHERE user_id = '132'\n",
    "  AND review_status = 'approved'\n",
    "  AND DATE(booking_time) = CURDATE();\n",
    "\"\"\"\n",
    "Updata = f\"\"\"\n",
    "UPDATE reservation\n",
    "SET cancel_reason = 'I Dont wanna go to hualien'\n",
    "WHERE reservation_id = 37;\n",
    "\"\"\"\n",
    "Delete = \"\"\"DELETE FROM users\n",
    "WHERE user_id = '124';\n",
    "\"\"\"\n",
    "Insert = \"insert into reservation ({Res}) values ({Val})\"\n",
    "\n",
    "\n",
    "Results = MySQL_Run(Select)\n",
    "df = pd.DataFrame(Results)\n",
    "df"
   ]
  },
  {
   "cell_type": "code",
   "execution_count": null,
   "id": "544cd67a",
   "metadata": {},
   "outputs": [],
   "source": [
    "from MySQL import MySQL_Run\n",
    "import pandas as pd\n",
    "\n",
    "Select_Sent = f\"\"\"SELECT *\n",
    "FROM reservation\n",
    "WHERE review_status = 'approved'\n",
    "AND DATE(booking_time) = CURDATE()\n",
    "user_id = '132';\n",
    "\"\"\"\n",
    "Results = MySQL_Run(Select_Sent)\n",
    "res_today = pd.DataFrame(Results)\n",
    "print(res_today)\n",
    "\n",
    "user_ids = res_today[\"user_id\"].tolist()\n",
    "id_list_str = \",\".join([f\"'{uid}'\" for uid in user_ids])\n",
    "\n",
    "Sent = f\"SELECT email FROM users WHERE user_id IN ({id_list_str})\"\n",
    "Results = MySQL_Run(Sent)\n",
    "res_touser = pd.DataFrame(Results)\n",
    "res_touser"
   ]
  },
  {
   "cell_type": "code",
   "execution_count": null,
   "id": "5cb182e3",
   "metadata": {},
   "outputs": [],
   "source": [
    "from MySQL import MySQL_Run\n",
    "import pandas as pd\n",
    "\n",
    "Select_Sent = f\"\"\"\n",
    "SELECT *\n",
    "FROM reservation\n",
    "WHERE review_status = 'approved'\n",
    "  AND DATE(booking_time) = DATE_ADD(CURDATE(), INTERVAL 1 DAY)\n",
    "  AND user_id = '132';\n",
    "\"\"\"\n",
    "Results = MySQL_Run(Select_Sent)\n",
    "res_tomorrow = pd.DataFrame(Results)\n",
    "res_tomorrow.tail()\n",
    "\n",
    "\n",
    "@api.get(\"/reservations/tomorrow\", tags=[\"Client\"], summary=\"預約查詢\")\n",
    "def tomorrow_reservations(user_id: str):\n",
    "    sql = f\"\"\"\n",
    "    SELECT reservation_id, user_id, booking_time, booking_number, \n",
    "           booking_start_station_name, booking_end_station_name,\n",
    "           review_status, payment_status\n",
    "    FROM reservation where \n",
    "    review_status = 'approved' AND\n",
    "    DATE(booking_time) = DATE_ADD(CURDATE(), INTERVAL 1 DAY) AND\n",
    "    user_id = '{user_id}'\n",
    "    \"\"\"\n",
    "    results = MySQL_Run(sql)\n",
    "\n",
    "    return {\"status\": \"success\", \"sql\": results}\n"
   ]
  },
  {
   "cell_type": "code",
   "execution_count": 46,
   "id": "15f3c2bb",
   "metadata": {},
   "outputs": [
    {
     "data": {
      "text/plain": [
       "[{'reservation_id': 37,\n",
       "  'user_id': 132,\n",
       "  'booking_time': datetime.datetime(2025, 9, 22, 0, 30),\n",
       "  'booking_number': 1,\n",
       "  'booking_start_station_name': '又一村文創園區',\n",
       "  'booking_end_station_name': '文化創意產業園區',\n",
       "  'review_status': 'approved',\n",
       "  'payment_status': 'pending'},\n",
       " {'reservation_id': 38,\n",
       "  'user_id': 132,\n",
       "  'booking_time': datetime.datetime(2025, 9, 22, 0, 10),\n",
       "  'booking_number': 3,\n",
       "  'booking_start_station_name': '花蓮轉運站',\n",
       "  'booking_end_station_name': '又一村文創園區',\n",
       "  'review_status': 'approved',\n",
       "  'payment_status': 'pending'}]"
      ]
     },
     "execution_count": 46,
     "metadata": {},
     "output_type": "execute_result"
    }
   ],
   "source": [
    "user_id = 132\n",
    "sql = f\"\"\"\n",
    "SELECT reservation_id, user_id, booking_time, booking_number, \n",
    "        booking_start_station_name, booking_end_station_name,\n",
    "        review_status, payment_status\n",
    "FROM reservation where \n",
    "review_status = 'approved' AND\n",
    "user_id = '{user_id}'\n",
    "\"\"\"\n",
    "results = MySQL_Run(sql)\n",
    "results"
   ]
  },
  {
   "cell_type": "code",
   "execution_count": 45,
   "id": "0e230273",
   "metadata": {},
   "outputs": [
    {
     "data": {
      "text/plain": [
       "()"
      ]
     },
     "execution_count": 45,
     "metadata": {},
     "output_type": "execute_result"
    }
   ],
   "source": [
    "user_id = 132\n",
    "sql = f\"\"\"\n",
    "SELECT reservation_id, user_id, booking_time, booking_number, \n",
    "        booking_start_station_name, booking_end_station_name,\n",
    "        review_status, payment_status\n",
    "FROM reservation where \n",
    "review_status = 'approved' AND\n",
    "DATE(booking_time) = DATE_ADD(CURDATE(), INTERVAL 1 DAY) AND\n",
    "user_id = '{user_id}'\n",
    "\"\"\"\n",
    "results = MySQL_Run(sql)\n",
    "results"
   ]
  },
  {
   "cell_type": "code",
   "execution_count": 25,
   "id": "5af66803",
   "metadata": {},
   "outputs": [
    {
     "data": {
      "text/plain": [
       "0      1\n",
       "1    132\n",
       "Name: user_id, dtype: int64"
      ]
     },
     "execution_count": 25,
     "metadata": {},
     "output_type": "execute_result"
    }
   ],
   "source": [
    "res_today[\"user_id\"]"
   ]
  },
  {
   "cell_type": "code",
   "execution_count": null,
   "id": "0c0a9706",
   "metadata": {},
   "outputs": [],
   "source": [
    "Results = MySQL_Run(\"desc reservation\")\n",
    "df = pd.DataFrame(Results)\n",
    "df"
   ]
  },
  {
   "cell_type": "markdown",
   "id": "0534001c",
   "metadata": {},
   "source": [
    "# Redis"
   ]
  },
  {
   "cell_type": "code",
   "execution_count": 8,
   "id": "c0e3b95a",
   "metadata": {},
   "outputs": [
    {
     "name": "stdout",
     "output_type": "stream",
     "text": [
      "b'bar'\n"
     ]
    }
   ],
   "source": [
    "import redis\n",
    "\n",
    "r = redis.Redis(host=\"127.0.0.1\", port=6379, db=0)\n",
    "r.set(\"foo\", \"bar\")\n",
    "print(r.get(\"foo\"))\n"
   ]
  },
  {
   "cell_type": "markdown",
   "id": "2004861e",
   "metadata": {},
   "source": [
    "# Bus SQL\n"
   ]
  },
  {
   "cell_type": "code",
   "execution_count": 68,
   "id": "a4612b72",
   "metadata": {},
   "outputs": [
    {
     "data": {
      "text/plain": [
       "()"
      ]
     },
     "execution_count": 68,
     "metadata": {},
     "output_type": "execute_result"
    }
   ],
   "source": [
    "import pandas as pd\n",
    "import pymysql\n",
    "\n",
    "Infor = {\n",
    " 'host': '43.212.245.102',\n",
    " 'user': 'root',\n",
    " 'port': 3306,\n",
    " 'password': 'dnuiOKd217hdio',\n",
    " 'database': 'Hualien_Bus',\n",
    " }\n",
    "\n",
    "def init(Parameter):\n",
    "    mydb = pymysql.connect(\n",
    "        host=Parameter[\"host\"],\n",
    "        user=Parameter[\"user\"],\n",
    "        port=Parameter[\"port\"],\n",
    "        password=Parameter[\"password\"],\n",
    "        database=Parameter[\"database\"],\n",
    "        charset=\"utf8mb4\",\n",
    "        cursorclass=pymysql.cursors.DictCursor\n",
    "    )\n",
    "    return mydb\n",
    "\n",
    "def MySQL_Run(query, Parameter=Infor):\n",
    "    mydb = init(Parameter)\n",
    "    mycursor = mydb.cursor()\n",
    "    mycursor.execute(query)\n",
    "\n",
    "    if query.strip().lower().startswith((\"select\", \"show\", \"desc\")):\n",
    "        result = mycursor.fetchall()\n",
    "    else:\n",
    "        mydb.commit()\n",
    "        result = \"Query executed.\"\n",
    "\n",
    "    mycursor.close()\n",
    "    mydb.close()\n",
    "\n",
    "    return (result)\n",
    "\n",
    "MySQL_Run(\"\"\"\n",
    "show tables\n",
    "\"\"\")\n",
    "MySQL_Run(\"\"\"\n",
    "select * from ttcarimport\n",
    "\"\"\")"
   ]
  },
  {
   "cell_type": "code",
   "execution_count": null,
   "id": "c01f27a8",
   "metadata": {},
   "outputs": [],
   "source": []
  }
 ],
 "metadata": {
  "kernelspec": {
   "display_name": "python311",
   "language": "python",
   "name": "python3"
  },
  "language_info": {
   "codemirror_mode": {
    "name": "ipython",
    "version": 3
   },
   "file_extension": ".py",
   "mimetype": "text/x-python",
   "name": "python",
   "nbconvert_exporter": "python",
   "pygments_lexer": "ipython3",
   "version": "3.11.3"
  }
 },
 "nbformat": 4,
 "nbformat_minor": 5
}
