{
 "cells": [
  {
   "cell_type": "markdown",
   "id": "8573b928",
   "metadata": {},
   "source": [
    "# SQL\n"
   ]
  },
  {
   "cell_type": "code",
   "execution_count": 1,
   "id": "0bf4db46",
   "metadata": {},
   "outputs": [
    {
     "data": {
      "text/plain": [
       "[{'Tables_in_bus_system': 'action_tour_hualien'},\n",
       " {'Tables_in_bus_system': 'admin_roles'},\n",
       " {'Tables_in_bus_system': 'admin_users'},\n",
       " {'Tables_in_bus_system': 'bus_route_stations'},\n",
       " {'Tables_in_bus_system': 'bus_routes'},\n",
       " {'Tables_in_bus_system': 'bus_routes_total'},\n",
       " {'Tables_in_bus_system': 'car_resource'},\n",
       " {'Tables_in_bus_system': 'login_state'},\n",
       " {'Tables_in_bus_system': 'reservation'},\n",
       " {'Tables_in_bus_system': 'reservation_record'},\n",
       " {'Tables_in_bus_system': 'reservation_table'},\n",
       " {'Tables_in_bus_system': 'ttcarimport'},\n",
       " {'Tables_in_bus_system': 'users'},\n",
       " {'Tables_in_bus_system': 'users_test'}]"
      ]
     },
     "execution_count": 1,
     "metadata": {},
     "output_type": "execute_result"
    }
   ],
   "source": [
    "from MySQL import MySQL_Run\n",
    "\n",
    "MySQL_Run(\"show tables\")"
   ]
  },
  {
   "cell_type": "code",
   "execution_count": null,
   "id": "6be4b30a",
   "metadata": {},
   "outputs": [],
   "source": [
    "import pandas as pd\n",
    "\n",
    "Results = MySQL_Run(f\"select * from reservation where user_id = '132';\")\n",
    "df = pd.DataFrame(Results)\n",
    "df"
   ]
  },
  {
   "cell_type": "code",
   "execution_count": null,
   "id": "30922b77",
   "metadata": {},
   "outputs": [],
   "source": [
    "Results = MySQL_Run(f\"\"\"\n",
    "UPDATE reservation\n",
    "SET review_status = 'canceled'\n",
    "WHERE user_id = 132;\n",
    "\"\"\")\n",
    "print(Results)"
   ]
  },
  {
   "cell_type": "code",
   "execution_count": null,
   "id": "fad924c8",
   "metadata": {},
   "outputs": [
    {
     "data": {
      "text/plain": [
       "'Query executed.'"
      ]
     },
     "execution_count": 7,
     "metadata": {},
     "output_type": "execute_result"
    }
   ],
   "source": [
    "# MySQL_Run(\"\"\"DELETE FROM users\n",
    "# WHERE user_id = '124';\n",
    "# \"\"\")"
   ]
  },
  {
   "cell_type": "code",
   "execution_count": null,
   "id": "53708a54",
   "metadata": {},
   "outputs": [],
   "source": [
    "import pandas as pd\n",
    "\n",
    "Res = \"user_id, booking_time, booking_number, booking_start_station_name, booking_end_station_name\"\n",
    "Res2 = \"user_id, booking_time, booking_number, booking_start_station_name, booking_end_station_name, review_status, payment_status\"\n",
    "Val = \"1, '2002-06-20 10:00:00', '150', '工109', '工515'\"\n",
    "\n",
    "def Show_Resarvation(Res2):\n",
    "    Results = MySQL_Run(f\"select {Res2} from reservation\")\n",
    "    df = pd.DataFrame(Results)\n",
    "    return df\n",
    "\n",
    "def Push_Resarvation(Val):\n",
    "    sql = f\"insert into reservation ({Res}) values ({Val})\"\n",
    "    MySQL_Run(sql)\n",
    "    return \"Success\"\n",
    "\n",
    "# Push_Resarvation(Val)\n",
    "Show_Resarvation(Res2)"
   ]
  },
  {
   "cell_type": "code",
   "execution_count": null,
   "id": "a5226fcf",
   "metadata": {},
   "outputs": [],
   "source": [
    "sql = \"\"\"\n",
    "SELECT user_id, booking_time, booking_number, \n",
    "        booking_start_station_name, booking_end_station_name,\n",
    "        review_status, payment_status\n",
    "FROM reservation where user_id = '132' order by created_at desc\n",
    "\"\"\"\n",
    "results = MySQL_Run(sql)\n",
    "results"
   ]
  },
  {
   "cell_type": "code",
   "execution_count": null,
   "id": "77692346",
   "metadata": {},
   "outputs": [
    {
     "name": "stdout",
     "output_type": "stream",
     "text": [
      "Query executed.\n"
     ]
    }
   ],
   "source": [
    "\n",
    "@api.post(\"/reservations/Canceled\", tags=[\"Client\"], summary=\"取消預約\")\n",
    "def Cancled_reservation(reservation_id: int):\n",
    "    sql = f\"\"\"\n",
    "    UPDATE reservation\n",
    "    SET review_status = 'canceled'\n",
    "    WHERE reservation_id = {reservation_id};\n",
    "    \"\"\"\n",
    "    Results = MySQL_Run(sql)\n",
    "    return {\"status\": \"success\", \"sql\": Results}\n",
    "\n",
    "reservation_id = 24\n",
    "sql = f\"\"\"\n",
    "UPDATE reservation\n",
    "SET review_status = 'canceled'\n",
    "WHERE reservation_id = {reservation_id};\n",
    "\"\"\"\n",
    "\n",
    "Results = MySQL_Run(sql)\n",
    "print(Results)"
   ]
  },
  {
   "cell_type": "code",
   "execution_count": 8,
   "id": "c0e3b95a",
   "metadata": {},
   "outputs": [
    {
     "name": "stdout",
     "output_type": "stream",
     "text": [
      "b'bar'\n"
     ]
    }
   ],
   "source": [
    "import redis\n",
    "\n",
    "r = redis.Redis(host=\"127.0.0.1\", port=6379, db=0)\n",
    "r.set(\"foo\", \"bar\")\n",
    "print(r.get(\"foo\"))\n"
   ]
  },
  {
   "cell_type": "code",
   "execution_count": 65,
   "id": "a4612b72",
   "metadata": {},
   "outputs": [
    {
     "data": {
      "text/plain": [
       "'Query executed.'"
      ]
     },
     "execution_count": 65,
     "metadata": {},
     "output_type": "execute_result"
    }
   ],
   "source": [
    "import pandas as pd\n",
    "import pymysql\n",
    "\n",
    "Infor = {\n",
    " 'host': '43.212.245.102',\n",
    " 'user': 'root',\n",
    " 'port': 3306,\n",
    " 'password': 'dnuiOKd217hdio',\n",
    " 'database': 'Hualien_Bus',\n",
    " }\n",
    "\n",
    "def init(Parameter):\n",
    "    mydb = pymysql.connect(\n",
    "        host=Parameter[\"host\"],\n",
    "        user=Parameter[\"user\"],\n",
    "        port=Parameter[\"port\"],\n",
    "        password=Parameter[\"password\"],\n",
    "        database=Parameter[\"database\"],\n",
    "        charset=\"utf8mb4\",\n",
    "        cursorclass=pymysql.cursors.DictCursor\n",
    "    )\n",
    "    return mydb\n",
    "\n",
    "def MySQL_Run(query, Parameter=Infor):\n",
    "    mydb = init(Parameter)\n",
    "    mycursor = mydb.cursor()\n",
    "    mycursor.execute(query)\n",
    "\n",
    "    if query.strip().lower().startswith((\"select\", \"show\", \"desc\")):\n",
    "        result = mycursor.fetchall()\n",
    "    else:\n",
    "        mydb.commit()\n",
    "        result = \"Query executed.\"\n",
    "\n",
    "    mycursor.close()\n",
    "    mydb.close()\n",
    "\n",
    "    return (result)\n",
    "\n",
    "MySQL_Run(\"\"\"\n",
    "FLUSH PRIVILEGES;\n",
    "\"\"\")"
   ]
  }
 ],
 "metadata": {
  "kernelspec": {
   "display_name": "python311",
   "language": "python",
   "name": "python3"
  },
  "language_info": {
   "codemirror_mode": {
    "name": "ipython",
    "version": 3
   },
   "file_extension": ".py",
   "mimetype": "text/x-python",
   "name": "python",
   "nbconvert_exporter": "python",
   "pygments_lexer": "ipython3",
   "version": "3.11.3"
  }
 },
 "nbformat": 4,
 "nbformat_minor": 5
}
