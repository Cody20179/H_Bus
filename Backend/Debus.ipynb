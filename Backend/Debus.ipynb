{
 "cells": [
  {
   "cell_type": "markdown",
   "id": "8573b928",
   "metadata": {},
   "source": [
    "# SQL\n"
   ]
  },
  {
   "cell_type": "code",
   "execution_count": 23,
   "id": "0bf4db46",
   "metadata": {},
   "outputs": [
    {
     "data": {
      "text/plain": [
       "[{'Tables_in_bus_system': 'action_tour_hualien'},\n",
       " {'Tables_in_bus_system': 'admin_roles'},\n",
       " {'Tables_in_bus_system': 'admin_users'},\n",
       " {'Tables_in_bus_system': 'bus_route_stations'},\n",
       " {'Tables_in_bus_system': 'bus_routes'},\n",
       " {'Tables_in_bus_system': 'bus_routes_total'},\n",
       " {'Tables_in_bus_system': 'car_resource'},\n",
       " {'Tables_in_bus_system': 'login_state'},\n",
       " {'Tables_in_bus_system': 'reservation'},\n",
       " {'Tables_in_bus_system': 'reservation_record'},\n",
       " {'Tables_in_bus_system': 'reservation_table'},\n",
       " {'Tables_in_bus_system': 'ttcarimport'},\n",
       " {'Tables_in_bus_system': 'users'},\n",
       " {'Tables_in_bus_system': 'users_test'}]"
      ]
     },
     "execution_count": 23,
     "metadata": {},
     "output_type": "execute_result"
    }
   ],
   "source": [
    "from MySQL import MySQL_Run\n",
    "\n",
    "MySQL_Run(\"show tables\")"
   ]
  },
  {
   "cell_type": "code",
   "execution_count": 41,
   "id": "6be4b30a",
   "metadata": {},
   "outputs": [
    {
     "data": {
      "text/html": [
       "<div>\n",
       "<style scoped>\n",
       "    .dataframe tbody tr th:only-of-type {\n",
       "        vertical-align: middle;\n",
       "    }\n",
       "\n",
       "    .dataframe tbody tr th {\n",
       "        vertical-align: top;\n",
       "    }\n",
       "\n",
       "    .dataframe thead th {\n",
       "        text-align: right;\n",
       "    }\n",
       "</style>\n",
       "<table border=\"1\" class=\"dataframe\">\n",
       "  <thead>\n",
       "    <tr style=\"text-align: right;\">\n",
       "      <th></th>\n",
       "      <th>reservation_id</th>\n",
       "      <th>user_id</th>\n",
       "      <th>booking_time</th>\n",
       "      <th>booking_number</th>\n",
       "      <th>booking_start_station_name</th>\n",
       "      <th>booking_end_station_name</th>\n",
       "      <th>payment_method</th>\n",
       "      <th>payment_record</th>\n",
       "      <th>payment_status</th>\n",
       "      <th>review_status</th>\n",
       "      <th>dispatch_status</th>\n",
       "      <th>reservation_status</th>\n",
       "      <th>created_at</th>\n",
       "      <th>updated_at</th>\n",
       "    </tr>\n",
       "  </thead>\n",
       "  <tbody>\n",
       "    <tr>\n",
       "      <th>0</th>\n",
       "      <td>24</td>\n",
       "      <td>132</td>\n",
       "      <td>2025-09-15 20:08:00</td>\n",
       "      <td>1</td>\n",
       "      <td>花蓮轉運站</td>\n",
       "      <td>花蓮港景觀橋</td>\n",
       "      <td>None</td>\n",
       "      <td>None</td>\n",
       "      <td>paid</td>\n",
       "      <td>canceled</td>\n",
       "      <td>assigned</td>\n",
       "      <td>0</td>\n",
       "      <td>2025-09-14 20:08:57</td>\n",
       "      <td>2025-09-17 22:45:46</td>\n",
       "    </tr>\n",
       "    <tr>\n",
       "      <th>1</th>\n",
       "      <td>26</td>\n",
       "      <td>132</td>\n",
       "      <td>2025-09-16 11:39:00</td>\n",
       "      <td>1</td>\n",
       "      <td>花蓮轉運站</td>\n",
       "      <td>將軍府</td>\n",
       "      <td>None</td>\n",
       "      <td>None</td>\n",
       "      <td>pending</td>\n",
       "      <td>canceled</td>\n",
       "      <td>not_assigned</td>\n",
       "      <td>0</td>\n",
       "      <td>2025-09-15 11:38:44</td>\n",
       "      <td>2025-09-17 22:45:46</td>\n",
       "    </tr>\n",
       "    <tr>\n",
       "      <th>2</th>\n",
       "      <td>27</td>\n",
       "      <td>132</td>\n",
       "      <td>2025-09-16 12:12:00</td>\n",
       "      <td>100</td>\n",
       "      <td>將軍府</td>\n",
       "      <td>四八高地</td>\n",
       "      <td>None</td>\n",
       "      <td>None</td>\n",
       "      <td>failed</td>\n",
       "      <td>canceled</td>\n",
       "      <td>not_assigned</td>\n",
       "      <td>0</td>\n",
       "      <td>2025-09-15 21:12:07</td>\n",
       "      <td>2025-09-17 22:45:46</td>\n",
       "    </tr>\n",
       "    <tr>\n",
       "      <th>3</th>\n",
       "      <td>28</td>\n",
       "      <td>132</td>\n",
       "      <td>2025-09-17 00:31:00</td>\n",
       "      <td>15</td>\n",
       "      <td>松園別館</td>\n",
       "      <td>花蓮觀光漁港</td>\n",
       "      <td>None</td>\n",
       "      <td>None</td>\n",
       "      <td>failed</td>\n",
       "      <td>canceled</td>\n",
       "      <td>not_assigned</td>\n",
       "      <td>0</td>\n",
       "      <td>2025-09-16 00:29:48</td>\n",
       "      <td>2025-09-17 22:45:46</td>\n",
       "    </tr>\n",
       "    <tr>\n",
       "      <th>4</th>\n",
       "      <td>29</td>\n",
       "      <td>132</td>\n",
       "      <td>2025-09-17 09:50:00</td>\n",
       "      <td>1</td>\n",
       "      <td>花蓮轉運站</td>\n",
       "      <td>松園別館</td>\n",
       "      <td>None</td>\n",
       "      <td>None</td>\n",
       "      <td>pending</td>\n",
       "      <td>canceled</td>\n",
       "      <td>not_assigned</td>\n",
       "      <td>0</td>\n",
       "      <td>2025-09-16 09:48:37</td>\n",
       "      <td>2025-09-17 22:45:46</td>\n",
       "    </tr>\n",
       "  </tbody>\n",
       "</table>\n",
       "</div>"
      ],
      "text/plain": [
       "   reservation_id  user_id        booking_time  booking_number  \\\n",
       "0              24      132 2025-09-15 20:08:00               1   \n",
       "1              26      132 2025-09-16 11:39:00               1   \n",
       "2              27      132 2025-09-16 12:12:00             100   \n",
       "3              28      132 2025-09-17 00:31:00              15   \n",
       "4              29      132 2025-09-17 09:50:00               1   \n",
       "\n",
       "  booking_start_station_name booking_end_station_name payment_method  \\\n",
       "0                      花蓮轉運站                   花蓮港景觀橋           None   \n",
       "1                      花蓮轉運站                      將軍府           None   \n",
       "2                        將軍府                     四八高地           None   \n",
       "3                       松園別館                   花蓮觀光漁港           None   \n",
       "4                      花蓮轉運站                     松園別館           None   \n",
       "\n",
       "  payment_record payment_status review_status dispatch_status  \\\n",
       "0           None           paid      canceled        assigned   \n",
       "1           None        pending      canceled    not_assigned   \n",
       "2           None         failed      canceled    not_assigned   \n",
       "3           None         failed      canceled    not_assigned   \n",
       "4           None        pending      canceled    not_assigned   \n",
       "\n",
       "   reservation_status          created_at          updated_at  \n",
       "0                   0 2025-09-14 20:08:57 2025-09-17 22:45:46  \n",
       "1                   0 2025-09-15 11:38:44 2025-09-17 22:45:46  \n",
       "2                   0 2025-09-15 21:12:07 2025-09-17 22:45:46  \n",
       "3                   0 2025-09-16 00:29:48 2025-09-17 22:45:46  \n",
       "4                   0 2025-09-16 09:48:37 2025-09-17 22:45:46  "
      ]
     },
     "execution_count": 41,
     "metadata": {},
     "output_type": "execute_result"
    }
   ],
   "source": [
    "import pandas as pd\n",
    "\n",
    "Results = MySQL_Run(f\"select * from reservation where user_id = '132';\")\n",
    "df = pd.DataFrame(Results)\n",
    "df"
   ]
  },
  {
   "cell_type": "code",
   "execution_count": null,
   "id": "65252b9b",
   "metadata": {},
   "outputs": [],
   "source": [
    "import pandas as pd\n",
    "\n",
    "Results = MySQL_Run(f\"select * from users where user_id = '132';\")\n",
    "df = pd.DataFrame(Results)\n",
    "df"
   ]
  },
  {
   "cell_type": "code",
   "execution_count": null,
   "id": "30922b77",
   "metadata": {},
   "outputs": [
    {
     "ename": "DataError",
     "evalue": "(1265, \"Data truncated for column 'review_status' at row 1\")",
     "output_type": "error",
     "traceback": [
      "\u001b[31m---------------------------------------------------------------------------\u001b[39m",
      "\u001b[31mDataError\u001b[39m                                 Traceback (most recent call last)",
      "\u001b[36mCell\u001b[39m\u001b[36m \u001b[39m\u001b[32mIn[42]\u001b[39m\u001b[32m, line 1\u001b[39m\n\u001b[32m----> \u001b[39m\u001b[32m1\u001b[39m Results = \u001b[43mMySQL_Run\u001b[49m\u001b[43m(\u001b[49m\u001b[33;43mf\u001b[39;49m\u001b[33;43m\"\"\"\u001b[39;49m\n\u001b[32m      2\u001b[39m \u001b[33;43mUPDATE reservation\u001b[39;49m\n\u001b[32m      3\u001b[39m \u001b[33;43mSET review_status = \u001b[39;49m\u001b[33;43m'\u001b[39;49m\u001b[33;43mSmallone\u001b[39;49m\u001b[33;43m'\u001b[39;49m\n\u001b[32m      4\u001b[39m \u001b[33;43mWHERE user_id = 132;\u001b[39;49m\n\u001b[32m      5\u001b[39m \u001b[33;43m\"\"\"\u001b[39;49m\u001b[43m)\u001b[49m\n\u001b[32m      6\u001b[39m \u001b[38;5;28mprint\u001b[39m(Results)\n",
      "\u001b[36mFile \u001b[39m\u001b[32md:\\2025Cody\\Github\\H_Bus\\Backend\\MySQL.py:27\u001b[39m, in \u001b[36mMySQL_Run\u001b[39m\u001b[34m(query, Parameter)\u001b[39m\n\u001b[32m     25\u001b[39m mydb = init(Parameter)\n\u001b[32m     26\u001b[39m mycursor = mydb.cursor()\n\u001b[32m---> \u001b[39m\u001b[32m27\u001b[39m \u001b[43mmycursor\u001b[49m\u001b[43m.\u001b[49m\u001b[43mexecute\u001b[49m\u001b[43m(\u001b[49m\u001b[43mquery\u001b[49m\u001b[43m)\u001b[49m\n\u001b[32m     29\u001b[39m \u001b[38;5;28;01mif\u001b[39;00m query.strip().lower().startswith((\u001b[33m\"\u001b[39m\u001b[33mselect\u001b[39m\u001b[33m\"\u001b[39m, \u001b[33m\"\u001b[39m\u001b[33mshow\u001b[39m\u001b[33m\"\u001b[39m, \u001b[33m\"\u001b[39m\u001b[33mdesc\u001b[39m\u001b[33m\"\u001b[39m)):\n\u001b[32m     30\u001b[39m     result = mycursor.fetchall()\n",
      "\u001b[36mFile \u001b[39m\u001b[32md:\\2025Cody\\python311\\Lib\\site-packages\\pymysql\\cursors.py:153\u001b[39m, in \u001b[36mCursor.execute\u001b[39m\u001b[34m(self, query, args)\u001b[39m\n\u001b[32m    149\u001b[39m     \u001b[38;5;28;01mpass\u001b[39;00m\n\u001b[32m    151\u001b[39m query = \u001b[38;5;28mself\u001b[39m.mogrify(query, args)\n\u001b[32m--> \u001b[39m\u001b[32m153\u001b[39m result = \u001b[38;5;28;43mself\u001b[39;49m\u001b[43m.\u001b[49m\u001b[43m_query\u001b[49m\u001b[43m(\u001b[49m\u001b[43mquery\u001b[49m\u001b[43m)\u001b[49m\n\u001b[32m    154\u001b[39m \u001b[38;5;28mself\u001b[39m._executed = query\n\u001b[32m    155\u001b[39m \u001b[38;5;28;01mreturn\u001b[39;00m result\n",
      "\u001b[36mFile \u001b[39m\u001b[32md:\\2025Cody\\python311\\Lib\\site-packages\\pymysql\\cursors.py:322\u001b[39m, in \u001b[36mCursor._query\u001b[39m\u001b[34m(self, q)\u001b[39m\n\u001b[32m    320\u001b[39m conn = \u001b[38;5;28mself\u001b[39m._get_db()\n\u001b[32m    321\u001b[39m \u001b[38;5;28mself\u001b[39m._clear_result()\n\u001b[32m--> \u001b[39m\u001b[32m322\u001b[39m \u001b[43mconn\u001b[49m\u001b[43m.\u001b[49m\u001b[43mquery\u001b[49m\u001b[43m(\u001b[49m\u001b[43mq\u001b[49m\u001b[43m)\u001b[49m\n\u001b[32m    323\u001b[39m \u001b[38;5;28mself\u001b[39m._do_get_result()\n\u001b[32m    324\u001b[39m \u001b[38;5;28;01mreturn\u001b[39;00m \u001b[38;5;28mself\u001b[39m.rowcount\n",
      "\u001b[36mFile \u001b[39m\u001b[32md:\\2025Cody\\python311\\Lib\\site-packages\\pymysql\\connections.py:563\u001b[39m, in \u001b[36mConnection.query\u001b[39m\u001b[34m(self, sql, unbuffered)\u001b[39m\n\u001b[32m    561\u001b[39m     sql = sql.encode(\u001b[38;5;28mself\u001b[39m.encoding, \u001b[33m\"\u001b[39m\u001b[33msurrogateescape\u001b[39m\u001b[33m\"\u001b[39m)\n\u001b[32m    562\u001b[39m \u001b[38;5;28mself\u001b[39m._execute_command(COMMAND.COM_QUERY, sql)\n\u001b[32m--> \u001b[39m\u001b[32m563\u001b[39m \u001b[38;5;28mself\u001b[39m._affected_rows = \u001b[38;5;28;43mself\u001b[39;49m\u001b[43m.\u001b[49m\u001b[43m_read_query_result\u001b[49m\u001b[43m(\u001b[49m\u001b[43munbuffered\u001b[49m\u001b[43m=\u001b[49m\u001b[43munbuffered\u001b[49m\u001b[43m)\u001b[49m\n\u001b[32m    564\u001b[39m \u001b[38;5;28;01mreturn\u001b[39;00m \u001b[38;5;28mself\u001b[39m._affected_rows\n",
      "\u001b[36mFile \u001b[39m\u001b[32md:\\2025Cody\\python311\\Lib\\site-packages\\pymysql\\connections.py:825\u001b[39m, in \u001b[36mConnection._read_query_result\u001b[39m\u001b[34m(self, unbuffered)\u001b[39m\n\u001b[32m    823\u001b[39m \u001b[38;5;28;01melse\u001b[39;00m:\n\u001b[32m    824\u001b[39m     result = MySQLResult(\u001b[38;5;28mself\u001b[39m)\n\u001b[32m--> \u001b[39m\u001b[32m825\u001b[39m     \u001b[43mresult\u001b[49m\u001b[43m.\u001b[49m\u001b[43mread\u001b[49m\u001b[43m(\u001b[49m\u001b[43m)\u001b[49m\n\u001b[32m    826\u001b[39m \u001b[38;5;28mself\u001b[39m._result = result\n\u001b[32m    827\u001b[39m \u001b[38;5;28;01mif\u001b[39;00m result.server_status \u001b[38;5;129;01mis\u001b[39;00m \u001b[38;5;129;01mnot\u001b[39;00m \u001b[38;5;28;01mNone\u001b[39;00m:\n",
      "\u001b[36mFile \u001b[39m\u001b[32md:\\2025Cody\\python311\\Lib\\site-packages\\pymysql\\connections.py:1199\u001b[39m, in \u001b[36mMySQLResult.read\u001b[39m\u001b[34m(self)\u001b[39m\n\u001b[32m   1197\u001b[39m \u001b[38;5;28;01mdef\u001b[39;00m\u001b[38;5;250m \u001b[39m\u001b[34mread\u001b[39m(\u001b[38;5;28mself\u001b[39m):\n\u001b[32m   1198\u001b[39m     \u001b[38;5;28;01mtry\u001b[39;00m:\n\u001b[32m-> \u001b[39m\u001b[32m1199\u001b[39m         first_packet = \u001b[38;5;28;43mself\u001b[39;49m\u001b[43m.\u001b[49m\u001b[43mconnection\u001b[49m\u001b[43m.\u001b[49m\u001b[43m_read_packet\u001b[49m\u001b[43m(\u001b[49m\u001b[43m)\u001b[49m\n\u001b[32m   1201\u001b[39m         \u001b[38;5;28;01mif\u001b[39;00m first_packet.is_ok_packet():\n\u001b[32m   1202\u001b[39m             \u001b[38;5;28mself\u001b[39m._read_ok_packet(first_packet)\n",
      "\u001b[36mFile \u001b[39m\u001b[32md:\\2025Cody\\python311\\Lib\\site-packages\\pymysql\\connections.py:775\u001b[39m, in \u001b[36mConnection._read_packet\u001b[39m\u001b[34m(self, packet_type)\u001b[39m\n\u001b[32m    773\u001b[39m     \u001b[38;5;28;01mif\u001b[39;00m \u001b[38;5;28mself\u001b[39m._result \u001b[38;5;129;01mis\u001b[39;00m \u001b[38;5;129;01mnot\u001b[39;00m \u001b[38;5;28;01mNone\u001b[39;00m \u001b[38;5;129;01mand\u001b[39;00m \u001b[38;5;28mself\u001b[39m._result.unbuffered_active \u001b[38;5;129;01mis\u001b[39;00m \u001b[38;5;28;01mTrue\u001b[39;00m:\n\u001b[32m    774\u001b[39m         \u001b[38;5;28mself\u001b[39m._result.unbuffered_active = \u001b[38;5;28;01mFalse\u001b[39;00m\n\u001b[32m--> \u001b[39m\u001b[32m775\u001b[39m     \u001b[43mpacket\u001b[49m\u001b[43m.\u001b[49m\u001b[43mraise_for_error\u001b[49m\u001b[43m(\u001b[49m\u001b[43m)\u001b[49m\n\u001b[32m    776\u001b[39m \u001b[38;5;28;01mreturn\u001b[39;00m packet\n",
      "\u001b[36mFile \u001b[39m\u001b[32md:\\2025Cody\\python311\\Lib\\site-packages\\pymysql\\protocol.py:219\u001b[39m, in \u001b[36mMysqlPacket.raise_for_error\u001b[39m\u001b[34m(self)\u001b[39m\n\u001b[32m    217\u001b[39m \u001b[38;5;28;01mif\u001b[39;00m DEBUG:\n\u001b[32m    218\u001b[39m     \u001b[38;5;28mprint\u001b[39m(\u001b[33m\"\u001b[39m\u001b[33merrno =\u001b[39m\u001b[33m\"\u001b[39m, errno)\n\u001b[32m--> \u001b[39m\u001b[32m219\u001b[39m \u001b[43merr\u001b[49m\u001b[43m.\u001b[49m\u001b[43mraise_mysql_exception\u001b[49m\u001b[43m(\u001b[49m\u001b[38;5;28;43mself\u001b[39;49m\u001b[43m.\u001b[49m\u001b[43m_data\u001b[49m\u001b[43m)\u001b[49m\n",
      "\u001b[36mFile \u001b[39m\u001b[32md:\\2025Cody\\python311\\Lib\\site-packages\\pymysql\\err.py:150\u001b[39m, in \u001b[36mraise_mysql_exception\u001b[39m\u001b[34m(data)\u001b[39m\n\u001b[32m    148\u001b[39m \u001b[38;5;28;01mif\u001b[39;00m errorclass \u001b[38;5;129;01mis\u001b[39;00m \u001b[38;5;28;01mNone\u001b[39;00m:\n\u001b[32m    149\u001b[39m     errorclass = InternalError \u001b[38;5;28;01mif\u001b[39;00m errno < \u001b[32m1000\u001b[39m \u001b[38;5;28;01melse\u001b[39;00m OperationalError\n\u001b[32m--> \u001b[39m\u001b[32m150\u001b[39m \u001b[38;5;28;01mraise\u001b[39;00m errorclass(errno, errval)\n",
      "\u001b[31mDataError\u001b[39m: (1265, \"Data truncated for column 'review_status' at row 1\")"
     ]
    }
   ],
   "source": [
    "Results = MySQL_Run(f\"\"\"\n",
    "UPDATE reservation\n",
    "SET review_status = 'canceled'\n",
    "WHERE user_id = 132;\n",
    "\"\"\")\n",
    "print(Results)"
   ]
  },
  {
   "cell_type": "code",
   "execution_count": null,
   "id": "fad924c8",
   "metadata": {},
   "outputs": [
    {
     "data": {
      "text/plain": [
       "'Query executed.'"
      ]
     },
     "execution_count": 7,
     "metadata": {},
     "output_type": "execute_result"
    }
   ],
   "source": [
    "# MySQL_Run(\"\"\"DELETE FROM users\n",
    "# WHERE user_id = '124';\n",
    "# \"\"\")"
   ]
  },
  {
   "cell_type": "code",
   "execution_count": null,
   "id": "53708a54",
   "metadata": {},
   "outputs": [],
   "source": [
    "import pandas as pd\n",
    "\n",
    "Res = \"user_id, booking_time, booking_number, booking_start_station_name, booking_end_station_name\"\n",
    "Res2 = \"user_id, booking_time, booking_number, booking_start_station_name, booking_end_station_name, review_status, payment_status\"\n",
    "Val = \"1, '2002-06-20 10:00:00', '150', '工109', '工515'\"\n",
    "\n",
    "def Show_Resarvation(Res2):\n",
    "    Results = MySQL_Run(f\"select {Res2} from reservation\")\n",
    "    df = pd.DataFrame(Results)\n",
    "    return df\n",
    "\n",
    "def Push_Resarvation(Val):\n",
    "    sql = f\"insert into reservation ({Res}) values ({Val})\"\n",
    "    MySQL_Run(sql)\n",
    "    return \"Success\"\n",
    "\n",
    "# Push_Resarvation(Val)\n",
    "Show_Resarvation(Res2)"
   ]
  },
  {
   "cell_type": "code",
   "execution_count": null,
   "id": "a5226fcf",
   "metadata": {},
   "outputs": [],
   "source": [
    "sql = \"\"\"\n",
    "SELECT user_id, booking_time, booking_number, \n",
    "        booking_start_station_name, booking_end_station_name,\n",
    "        review_status, payment_status\n",
    "FROM reservation where user_id = '132' order by created_at desc\n",
    "\"\"\"\n",
    "results = MySQL_Run(sql)\n",
    "results"
   ]
  },
  {
   "cell_type": "code",
   "execution_count": 8,
   "id": "c0e3b95a",
   "metadata": {},
   "outputs": [
    {
     "name": "stdout",
     "output_type": "stream",
     "text": [
      "b'bar'\n"
     ]
    }
   ],
   "source": [
    "import redis\n",
    "\n",
    "r = redis.Redis(host=\"127.0.0.1\", port=6379, db=0)\n",
    "r.set(\"foo\", \"bar\")\n",
    "print(r.get(\"foo\"))\n"
   ]
  },
  {
   "cell_type": "markdown",
   "id": "7ac944dd",
   "metadata": {},
   "source": [
    "# Test"
   ]
  },
  {
   "cell_type": "code",
   "execution_count": null,
   "id": "a7e543b2",
   "metadata": {},
   "outputs": [],
   "source": [
    "import requests\n",
    "\n",
    "url = \"http://192.168.0.126:3001/v1/chat/completions\"\n",
    "\n",
    "payload = {\n",
    "    \"model\": \"gpt-neo-test\",\n",
    "    \"messages\": [\n",
    "        {\"role\": \"system\", \"content\": \"You are a helpful assistant.\"},\n",
    "        {\"role\": \"user\", \"content\": \"Hello, who won the World Cup in 2018?\"}\n",
    "    ],\n",
    "    \"stream\": False\n",
    "}\n",
    "\n",
    "resp = requests.post(url, json=payload)\n",
    "print(resp.json())"
   ]
  }
 ],
 "metadata": {
  "kernelspec": {
   "display_name": "python311",
   "language": "python",
   "name": "python3"
  },
  "language_info": {
   "codemirror_mode": {
    "name": "ipython",
    "version": 3
   },
   "file_extension": ".py",
   "mimetype": "text/x-python",
   "name": "python",
   "nbconvert_exporter": "python",
   "pygments_lexer": "ipython3",
   "version": "3.11.3"
  }
 },
 "nbformat": 4,
 "nbformat_minor": 5
}
