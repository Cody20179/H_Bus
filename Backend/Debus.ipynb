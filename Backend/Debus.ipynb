{
 "cells": [
  {
   "cell_type": "markdown",
   "id": "8573b928",
   "metadata": {},
   "source": [
    "# SQL\n"
   ]
  },
  {
   "cell_type": "code",
   "execution_count": 23,
   "id": "0bf4db46",
   "metadata": {},
   "outputs": [
    {
     "data": {
      "text/plain": [
       "[{'Tables_in_bus_system': 'action_tour_hualien'},\n",
       " {'Tables_in_bus_system': 'admin_roles'},\n",
       " {'Tables_in_bus_system': 'admin_users'},\n",
       " {'Tables_in_bus_system': 'bus_route_stations'},\n",
       " {'Tables_in_bus_system': 'bus_routes'},\n",
       " {'Tables_in_bus_system': 'bus_routes_total'},\n",
       " {'Tables_in_bus_system': 'car_resource'},\n",
       " {'Tables_in_bus_system': 'login_state'},\n",
       " {'Tables_in_bus_system': 'reservation'},\n",
       " {'Tables_in_bus_system': 'reservation_record'},\n",
       " {'Tables_in_bus_system': 'reservation_table'},\n",
       " {'Tables_in_bus_system': 'ttcarimport'},\n",
       " {'Tables_in_bus_system': 'users'},\n",
       " {'Tables_in_bus_system': 'users_test'}]"
      ]
     },
     "execution_count": 23,
     "metadata": {},
     "output_type": "execute_result"
    }
   ],
   "source": [
    "from MySQL import MySQL_Run\n",
    "\n",
    "MySQL_Run(\"show tables\")"
   ]
  },
  {
   "cell_type": "code",
   "execution_count": 41,
   "id": "6be4b30a",
   "metadata": {},
   "outputs": [
    {
     "data": {
      "text/html": [
       "<div>\n",
       "<style scoped>\n",
       "    .dataframe tbody tr th:only-of-type {\n",
       "        vertical-align: middle;\n",
       "    }\n",
       "\n",
       "    .dataframe tbody tr th {\n",
       "        vertical-align: top;\n",
       "    }\n",
       "\n",
       "    .dataframe thead th {\n",
       "        text-align: right;\n",
       "    }\n",
       "</style>\n",
       "<table border=\"1\" class=\"dataframe\">\n",
       "  <thead>\n",
       "    <tr style=\"text-align: right;\">\n",
       "      <th></th>\n",
       "      <th>reservation_id</th>\n",
       "      <th>user_id</th>\n",
       "      <th>booking_time</th>\n",
       "      <th>booking_number</th>\n",
       "      <th>booking_start_station_name</th>\n",
       "      <th>booking_end_station_name</th>\n",
       "      <th>payment_method</th>\n",
       "      <th>payment_record</th>\n",
       "      <th>payment_status</th>\n",
       "      <th>review_status</th>\n",
       "      <th>dispatch_status</th>\n",
       "      <th>reservation_status</th>\n",
       "      <th>created_at</th>\n",
       "      <th>updated_at</th>\n",
       "    </tr>\n",
       "  </thead>\n",
       "  <tbody>\n",
       "    <tr>\n",
       "      <th>0</th>\n",
       "      <td>24</td>\n",
       "      <td>132</td>\n",
       "      <td>2025-09-15 20:08:00</td>\n",
       "      <td>1</td>\n",
       "      <td>花蓮轉運站</td>\n",
       "      <td>花蓮港景觀橋</td>\n",
       "      <td>None</td>\n",
       "      <td>None</td>\n",
       "      <td>paid</td>\n",
       "      <td>canceled</td>\n",
       "      <td>assigned</td>\n",
       "      <td>0</td>\n",
       "      <td>2025-09-14 20:08:57</td>\n",
       "      <td>2025-09-17 22:45:46</td>\n",
       "    </tr>\n",
       "    <tr>\n",
       "      <th>1</th>\n",
       "      <td>26</td>\n",
       "      <td>132</td>\n",
       "      <td>2025-09-16 11:39:00</td>\n",
       "      <td>1</td>\n",
       "      <td>花蓮轉運站</td>\n",
       "      <td>將軍府</td>\n",
       "      <td>None</td>\n",
       "      <td>None</td>\n",
       "      <td>pending</td>\n",
       "      <td>canceled</td>\n",
       "      <td>not_assigned</td>\n",
       "      <td>0</td>\n",
       "      <td>2025-09-15 11:38:44</td>\n",
       "      <td>2025-09-17 22:45:46</td>\n",
       "    </tr>\n",
       "    <tr>\n",
       "      <th>2</th>\n",
       "      <td>27</td>\n",
       "      <td>132</td>\n",
       "      <td>2025-09-16 12:12:00</td>\n",
       "      <td>100</td>\n",
       "      <td>將軍府</td>\n",
       "      <td>四八高地</td>\n",
       "      <td>None</td>\n",
       "      <td>None</td>\n",
       "      <td>failed</td>\n",
       "      <td>canceled</td>\n",
       "      <td>not_assigned</td>\n",
       "      <td>0</td>\n",
       "      <td>2025-09-15 21:12:07</td>\n",
       "      <td>2025-09-17 22:45:46</td>\n",
       "    </tr>\n",
       "    <tr>\n",
       "      <th>3</th>\n",
       "      <td>28</td>\n",
       "      <td>132</td>\n",
       "      <td>2025-09-17 00:31:00</td>\n",
       "      <td>15</td>\n",
       "      <td>松園別館</td>\n",
       "      <td>花蓮觀光漁港</td>\n",
       "      <td>None</td>\n",
       "      <td>None</td>\n",
       "      <td>failed</td>\n",
       "      <td>canceled</td>\n",
       "      <td>not_assigned</td>\n",
       "      <td>0</td>\n",
       "      <td>2025-09-16 00:29:48</td>\n",
       "      <td>2025-09-17 22:45:46</td>\n",
       "    </tr>\n",
       "    <tr>\n",
       "      <th>4</th>\n",
       "      <td>29</td>\n",
       "      <td>132</td>\n",
       "      <td>2025-09-17 09:50:00</td>\n",
       "      <td>1</td>\n",
       "      <td>花蓮轉運站</td>\n",
       "      <td>松園別館</td>\n",
       "      <td>None</td>\n",
       "      <td>None</td>\n",
       "      <td>pending</td>\n",
       "      <td>canceled</td>\n",
       "      <td>not_assigned</td>\n",
       "      <td>0</td>\n",
       "      <td>2025-09-16 09:48:37</td>\n",
       "      <td>2025-09-17 22:45:46</td>\n",
       "    </tr>\n",
       "  </tbody>\n",
       "</table>\n",
       "</div>"
      ],
      "text/plain": [
       "   reservation_id  user_id        booking_time  booking_number  \\\n",
       "0              24      132 2025-09-15 20:08:00               1   \n",
       "1              26      132 2025-09-16 11:39:00               1   \n",
       "2              27      132 2025-09-16 12:12:00             100   \n",
       "3              28      132 2025-09-17 00:31:00              15   \n",
       "4              29      132 2025-09-17 09:50:00               1   \n",
       "\n",
       "  booking_start_station_name booking_end_station_name payment_method  \\\n",
       "0                      花蓮轉運站                   花蓮港景觀橋           None   \n",
       "1                      花蓮轉運站                      將軍府           None   \n",
       "2                        將軍府                     四八高地           None   \n",
       "3                       松園別館                   花蓮觀光漁港           None   \n",
       "4                      花蓮轉運站                     松園別館           None   \n",
       "\n",
       "  payment_record payment_status review_status dispatch_status  \\\n",
       "0           None           paid      canceled        assigned   \n",
       "1           None        pending      canceled    not_assigned   \n",
       "2           None         failed      canceled    not_assigned   \n",
       "3           None         failed      canceled    not_assigned   \n",
       "4           None        pending      canceled    not_assigned   \n",
       "\n",
       "   reservation_status          created_at          updated_at  \n",
       "0                   0 2025-09-14 20:08:57 2025-09-17 22:45:46  \n",
       "1                   0 2025-09-15 11:38:44 2025-09-17 22:45:46  \n",
       "2                   0 2025-09-15 21:12:07 2025-09-17 22:45:46  \n",
       "3                   0 2025-09-16 00:29:48 2025-09-17 22:45:46  \n",
       "4                   0 2025-09-16 09:48:37 2025-09-17 22:45:46  "
      ]
     },
     "execution_count": 41,
     "metadata": {},
     "output_type": "execute_result"
    }
   ],
   "source": [
    "import pandas as pd\n",
    "\n",
    "Results = MySQL_Run(f\"select * from reservation where user_id = '132';\")\n",
    "df = pd.DataFrame(Results)\n",
    "df"
   ]
  },
  {
   "cell_type": "code",
   "execution_count": null,
   "id": "65252b9b",
   "metadata": {},
   "outputs": [],
   "source": [
    "import pandas as pd\n",
    "\n",
    "Results = MySQL_Run(f\"select * from users where user_id = '132';\")\n",
    "df = pd.DataFrame(Results)\n",
    "df"
   ]
  },
  {
   "cell_type": "code",
   "execution_count": null,
   "id": "30922b77",
   "metadata": {},
   "outputs": [],
   "source": [
    "Results = MySQL_Run(f\"\"\"\n",
    "UPDATE reservation\n",
    "SET review_status = 'canceled'\n",
    "WHERE user_id = 132;\n",
    "\"\"\")\n",
    "print(Results)"
   ]
  },
  {
   "cell_type": "code",
   "execution_count": null,
   "id": "fad924c8",
   "metadata": {},
   "outputs": [
    {
     "data": {
      "text/plain": [
       "'Query executed.'"
      ]
     },
     "execution_count": 7,
     "metadata": {},
     "output_type": "execute_result"
    }
   ],
   "source": [
    "# MySQL_Run(\"\"\"DELETE FROM users\n",
    "# WHERE user_id = '124';\n",
    "# \"\"\")"
   ]
  },
  {
   "cell_type": "code",
   "execution_count": null,
   "id": "53708a54",
   "metadata": {},
   "outputs": [],
   "source": [
    "import pandas as pd\n",
    "\n",
    "Res = \"user_id, booking_time, booking_number, booking_start_station_name, booking_end_station_name\"\n",
    "Res2 = \"user_id, booking_time, booking_number, booking_start_station_name, booking_end_station_name, review_status, payment_status\"\n",
    "Val = \"1, '2002-06-20 10:00:00', '150', '工109', '工515'\"\n",
    "\n",
    "def Show_Resarvation(Res2):\n",
    "    Results = MySQL_Run(f\"select {Res2} from reservation\")\n",
    "    df = pd.DataFrame(Results)\n",
    "    return df\n",
    "\n",
    "def Push_Resarvation(Val):\n",
    "    sql = f\"insert into reservation ({Res}) values ({Val})\"\n",
    "    MySQL_Run(sql)\n",
    "    return \"Success\"\n",
    "\n",
    "# Push_Resarvation(Val)\n",
    "Show_Resarvation(Res2)"
   ]
  },
  {
   "cell_type": "code",
   "execution_count": null,
   "id": "a5226fcf",
   "metadata": {},
   "outputs": [],
   "source": [
    "sql = \"\"\"\n",
    "SELECT user_id, booking_time, booking_number, \n",
    "        booking_start_station_name, booking_end_station_name,\n",
    "        review_status, payment_status\n",
    "FROM reservation where user_id = '132' order by created_at desc\n",
    "\"\"\"\n",
    "results = MySQL_Run(sql)\n",
    "results"
   ]
  },
  {
   "cell_type": "code",
   "execution_count": 8,
   "id": "c0e3b95a",
   "metadata": {},
   "outputs": [
    {
     "name": "stdout",
     "output_type": "stream",
     "text": [
      "b'bar'\n"
     ]
    }
   ],
   "source": [
    "import redis\n",
    "\n",
    "r = redis.Redis(host=\"127.0.0.1\", port=6379, db=0)\n",
    "r.set(\"foo\", \"bar\")\n",
    "print(r.get(\"foo\"))\n"
   ]
  },
  {
   "cell_type": "code",
   "execution_count": 51,
   "id": "a4612b72",
   "metadata": {},
   "outputs": [
    {
     "ename": "OperationalError",
     "evalue": "(2003, \"Can't connect to MySQL server on 'https://9ecef2fd5518.ngrok-free.app' ([Errno 11001] getaddrinfo failed)\")",
     "output_type": "error",
     "traceback": [
      "\u001b[31m---------------------------------------------------------------------------\u001b[39m",
      "\u001b[31mgaierror\u001b[39m                                  Traceback (most recent call last)",
      "\u001b[36mFile \u001b[39m\u001b[32md:\\2025Cody\\python311\\Lib\\site-packages\\pymysql\\connections.py:649\u001b[39m, in \u001b[36mConnection.connect\u001b[39m\u001b[34m(self, sock)\u001b[39m\n\u001b[32m    648\u001b[39m \u001b[38;5;28;01mtry\u001b[39;00m:\n\u001b[32m--> \u001b[39m\u001b[32m649\u001b[39m     sock = \u001b[43msocket\u001b[49m\u001b[43m.\u001b[49m\u001b[43mcreate_connection\u001b[49m\u001b[43m(\u001b[49m\n\u001b[32m    650\u001b[39m \u001b[43m        \u001b[49m\u001b[43m(\u001b[49m\u001b[38;5;28;43mself\u001b[39;49m\u001b[43m.\u001b[49m\u001b[43mhost\u001b[49m\u001b[43m,\u001b[49m\u001b[43m \u001b[49m\u001b[38;5;28;43mself\u001b[39;49m\u001b[43m.\u001b[49m\u001b[43mport\u001b[49m\u001b[43m)\u001b[49m\u001b[43m,\u001b[49m\u001b[43m \u001b[49m\u001b[38;5;28;43mself\u001b[39;49m\u001b[43m.\u001b[49m\u001b[43mconnect_timeout\u001b[49m\u001b[43m,\u001b[49m\u001b[43m \u001b[49m\u001b[43m*\u001b[49m\u001b[43m*\u001b[49m\u001b[43mkwargs\u001b[49m\n\u001b[32m    651\u001b[39m \u001b[43m    \u001b[49m\u001b[43m)\u001b[49m\n\u001b[32m    652\u001b[39m     \u001b[38;5;28;01mbreak\u001b[39;00m\n",
      "\u001b[36mFile \u001b[39m\u001b[32m~\\AppData\\Local\\Programs\\Python\\Python311\\Lib\\socket.py:827\u001b[39m, in \u001b[36mcreate_connection\u001b[39m\u001b[34m(address, timeout, source_address, all_errors)\u001b[39m\n\u001b[32m    826\u001b[39m exceptions = []\n\u001b[32m--> \u001b[39m\u001b[32m827\u001b[39m \u001b[38;5;28;01mfor\u001b[39;00m res \u001b[38;5;129;01min\u001b[39;00m \u001b[43mgetaddrinfo\u001b[49m\u001b[43m(\u001b[49m\u001b[43mhost\u001b[49m\u001b[43m,\u001b[49m\u001b[43m \u001b[49m\u001b[43mport\u001b[49m\u001b[43m,\u001b[49m\u001b[43m \u001b[49m\u001b[32;43m0\u001b[39;49m\u001b[43m,\u001b[49m\u001b[43m \u001b[49m\u001b[43mSOCK_STREAM\u001b[49m\u001b[43m)\u001b[49m:\n\u001b[32m    828\u001b[39m     af, socktype, proto, canonname, sa = res\n",
      "\u001b[36mFile \u001b[39m\u001b[32m~\\AppData\\Local\\Programs\\Python\\Python311\\Lib\\socket.py:962\u001b[39m, in \u001b[36mgetaddrinfo\u001b[39m\u001b[34m(host, port, family, type, proto, flags)\u001b[39m\n\u001b[32m    961\u001b[39m addrlist = []\n\u001b[32m--> \u001b[39m\u001b[32m962\u001b[39m \u001b[38;5;28;01mfor\u001b[39;00m res \u001b[38;5;129;01min\u001b[39;00m \u001b[43m_socket\u001b[49m\u001b[43m.\u001b[49m\u001b[43mgetaddrinfo\u001b[49m\u001b[43m(\u001b[49m\u001b[43mhost\u001b[49m\u001b[43m,\u001b[49m\u001b[43m \u001b[49m\u001b[43mport\u001b[49m\u001b[43m,\u001b[49m\u001b[43m \u001b[49m\u001b[43mfamily\u001b[49m\u001b[43m,\u001b[49m\u001b[43m \u001b[49m\u001b[38;5;28;43mtype\u001b[39;49m\u001b[43m,\u001b[49m\u001b[43m \u001b[49m\u001b[43mproto\u001b[49m\u001b[43m,\u001b[49m\u001b[43m \u001b[49m\u001b[43mflags\u001b[49m\u001b[43m)\u001b[49m:\n\u001b[32m    963\u001b[39m     af, socktype, proto, canonname, sa = res\n",
      "\u001b[31mgaierror\u001b[39m: [Errno 11001] getaddrinfo failed",
      "\nDuring handling of the above exception, another exception occurred:\n",
      "\u001b[31mOperationalError\u001b[39m                          Traceback (most recent call last)",
      "\u001b[36mCell\u001b[39m\u001b[36m \u001b[39m\u001b[32mIn[51]\u001b[39m\u001b[32m, line 40\u001b[39m\n\u001b[32m     36\u001b[39m     mydb.close()\n\u001b[32m     38\u001b[39m     \u001b[38;5;28;01mreturn\u001b[39;00m (result)\n\u001b[32m---> \u001b[39m\u001b[32m40\u001b[39m \u001b[43mMySQL_Run\u001b[49m\u001b[43m(\u001b[49m\u001b[33;43m\"\u001b[39;49m\u001b[33;43mshow tables\u001b[39;49m\u001b[33;43m\"\u001b[39;49m\u001b[43m)\u001b[49m\n",
      "\u001b[36mCell\u001b[39m\u001b[36m \u001b[39m\u001b[32mIn[51]\u001b[39m\u001b[32m, line 25\u001b[39m, in \u001b[36mMySQL_Run\u001b[39m\u001b[34m(query, Parameter)\u001b[39m\n\u001b[32m     24\u001b[39m \u001b[38;5;28;01mdef\u001b[39;00m\u001b[38;5;250m \u001b[39m\u001b[34mMySQL_Run\u001b[39m(query, Parameter=Infor):\n\u001b[32m---> \u001b[39m\u001b[32m25\u001b[39m     mydb = \u001b[43minit\u001b[49m\u001b[43m(\u001b[49m\u001b[43mParameter\u001b[49m\u001b[43m)\u001b[49m\n\u001b[32m     26\u001b[39m     mycursor = mydb.cursor()\n\u001b[32m     27\u001b[39m     mycursor.execute(query)\n",
      "\u001b[36mCell\u001b[39m\u001b[36m \u001b[39m\u001b[32mIn[51]\u001b[39m\u001b[32m, line 13\u001b[39m, in \u001b[36minit\u001b[39m\u001b[34m(Parameter)\u001b[39m\n\u001b[32m     12\u001b[39m \u001b[38;5;28;01mdef\u001b[39;00m\u001b[38;5;250m \u001b[39m\u001b[34minit\u001b[39m(Parameter):\n\u001b[32m---> \u001b[39m\u001b[32m13\u001b[39m     mydb = \u001b[43mpymysql\u001b[49m\u001b[43m.\u001b[49m\u001b[43mconnect\u001b[49m\u001b[43m(\u001b[49m\n\u001b[32m     14\u001b[39m \u001b[43m        \u001b[49m\u001b[43mhost\u001b[49m\u001b[43m=\u001b[49m\u001b[43mParameter\u001b[49m\u001b[43m[\u001b[49m\u001b[33;43m\"\u001b[39;49m\u001b[33;43mhost\u001b[39;49m\u001b[33;43m\"\u001b[39;49m\u001b[43m]\u001b[49m\u001b[43m,\u001b[49m\n\u001b[32m     15\u001b[39m \u001b[43m        \u001b[49m\u001b[43muser\u001b[49m\u001b[43m=\u001b[49m\u001b[43mParameter\u001b[49m\u001b[43m[\u001b[49m\u001b[33;43m\"\u001b[39;49m\u001b[33;43muser\u001b[39;49m\u001b[33;43m\"\u001b[39;49m\u001b[43m]\u001b[49m\u001b[43m,\u001b[49m\n\u001b[32m     16\u001b[39m \u001b[43m        \u001b[49m\u001b[43mport\u001b[49m\u001b[43m=\u001b[49m\u001b[43mParameter\u001b[49m\u001b[43m[\u001b[49m\u001b[33;43m\"\u001b[39;49m\u001b[33;43mport\u001b[39;49m\u001b[33;43m\"\u001b[39;49m\u001b[43m]\u001b[49m\u001b[43m,\u001b[49m\n\u001b[32m     17\u001b[39m \u001b[43m        \u001b[49m\u001b[43mpassword\u001b[49m\u001b[43m=\u001b[49m\u001b[43mParameter\u001b[49m\u001b[43m[\u001b[49m\u001b[33;43m\"\u001b[39;49m\u001b[33;43mpassword\u001b[39;49m\u001b[33;43m\"\u001b[39;49m\u001b[43m]\u001b[49m\u001b[43m,\u001b[49m\n\u001b[32m     18\u001b[39m \u001b[43m        \u001b[49m\u001b[43mdatabase\u001b[49m\u001b[43m=\u001b[49m\u001b[43mParameter\u001b[49m\u001b[43m[\u001b[49m\u001b[33;43m\"\u001b[39;49m\u001b[33;43mdatabase\u001b[39;49m\u001b[33;43m\"\u001b[39;49m\u001b[43m]\u001b[49m\u001b[43m,\u001b[49m\n\u001b[32m     19\u001b[39m \u001b[43m        \u001b[49m\u001b[43mcharset\u001b[49m\u001b[43m=\u001b[49m\u001b[33;43m\"\u001b[39;49m\u001b[33;43mutf8mb4\u001b[39;49m\u001b[33;43m\"\u001b[39;49m\u001b[43m,\u001b[49m\n\u001b[32m     20\u001b[39m \u001b[43m        \u001b[49m\u001b[43mcursorclass\u001b[49m\u001b[43m=\u001b[49m\u001b[43mpymysql\u001b[49m\u001b[43m.\u001b[49m\u001b[43mcursors\u001b[49m\u001b[43m.\u001b[49m\u001b[43mDictCursor\u001b[49m\n\u001b[32m     21\u001b[39m \u001b[43m    \u001b[49m\u001b[43m)\u001b[49m\n\u001b[32m     22\u001b[39m     \u001b[38;5;28;01mreturn\u001b[39;00m mydb\n",
      "\u001b[36mFile \u001b[39m\u001b[32md:\\2025Cody\\python311\\Lib\\site-packages\\pymysql\\connections.py:361\u001b[39m, in \u001b[36mConnection.__init__\u001b[39m\u001b[34m(self, user, password, host, database, unix_socket, port, charset, collation, sql_mode, read_default_file, conv, use_unicode, client_flag, cursorclass, init_command, connect_timeout, read_default_group, autocommit, local_infile, max_allowed_packet, defer_connect, auth_plugin_map, read_timeout, write_timeout, bind_address, binary_prefix, program_name, server_public_key, ssl, ssl_ca, ssl_cert, ssl_disabled, ssl_key, ssl_key_password, ssl_verify_cert, ssl_verify_identity, compress, named_pipe, passwd, db)\u001b[39m\n\u001b[32m    359\u001b[39m     \u001b[38;5;28mself\u001b[39m._sock = \u001b[38;5;28;01mNone\u001b[39;00m\n\u001b[32m    360\u001b[39m \u001b[38;5;28;01melse\u001b[39;00m:\n\u001b[32m--> \u001b[39m\u001b[32m361\u001b[39m     \u001b[38;5;28;43mself\u001b[39;49m\u001b[43m.\u001b[49m\u001b[43mconnect\u001b[49m\u001b[43m(\u001b[49m\u001b[43m)\u001b[49m\n",
      "\u001b[36mFile \u001b[39m\u001b[32md:\\2025Cody\\python311\\Lib\\site-packages\\pymysql\\connections.py:716\u001b[39m, in \u001b[36mConnection.connect\u001b[39m\u001b[34m(self, sock)\u001b[39m\n\u001b[32m    714\u001b[39m     \u001b[38;5;28;01mif\u001b[39;00m DEBUG:\n\u001b[32m    715\u001b[39m         \u001b[38;5;28mprint\u001b[39m(exc.traceback)\n\u001b[32m--> \u001b[39m\u001b[32m716\u001b[39m     \u001b[38;5;28;01mraise\u001b[39;00m exc\n\u001b[32m    718\u001b[39m \u001b[38;5;66;03m# If e is neither DatabaseError or IOError, It's a bug.\u001b[39;00m\n\u001b[32m    719\u001b[39m \u001b[38;5;66;03m# But raising AssertionError hides original error.\u001b[39;00m\n\u001b[32m    720\u001b[39m \u001b[38;5;66;03m# So just reraise it.\u001b[39;00m\n\u001b[32m    721\u001b[39m \u001b[38;5;28;01mraise\u001b[39;00m\n",
      "\u001b[31mOperationalError\u001b[39m: (2003, \"Can't connect to MySQL server on 'https://9ecef2fd5518.ngrok-free.app' ([Errno 11001] getaddrinfo failed)\")"
     ]
    }
   ],
   "source": [
    "import pandas as pd\n",
    "import pymysql\n",
    "\n",
    "Infor = {\n",
    " 'host': 'https://9ecef2fd5518.ngrok-free.app',\n",
    " 'user': 'root',\n",
    " 'port': 3307,\n",
    " 'password': '109109',\n",
    " 'database': 'bus_system',\n",
    " }\n",
    "\n",
    "def init(Parameter):\n",
    "    mydb = pymysql.connect(\n",
    "        host=Parameter[\"host\"],\n",
    "        user=Parameter[\"user\"],\n",
    "        port=Parameter[\"port\"],\n",
    "        password=Parameter[\"password\"],\n",
    "        database=Parameter[\"database\"],\n",
    "        charset=\"utf8mb4\",\n",
    "        cursorclass=pymysql.cursors.DictCursor\n",
    "    )\n",
    "    return mydb\n",
    "\n",
    "def MySQL_Run(query, Parameter=Infor):\n",
    "    mydb = init(Parameter)\n",
    "    mycursor = mydb.cursor()\n",
    "    mycursor.execute(query)\n",
    "\n",
    "    if query.strip().lower().startswith((\"select\", \"show\", \"desc\")):\n",
    "        result = mycursor.fetchall()\n",
    "    else:\n",
    "        mydb.commit()\n",
    "        result = \"Query executed.\"\n",
    "\n",
    "    mycursor.close()\n",
    "    mydb.close()\n",
    "\n",
    "    return (result)\n",
    "\n",
    "MySQL_Run(\"show tables\")"
   ]
  },
  {
   "cell_type": "markdown",
   "id": "7ac944dd",
   "metadata": {},
   "source": [
    "# Test"
   ]
  },
  {
   "cell_type": "code",
   "execution_count": null,
   "id": "a7e543b2",
   "metadata": {},
   "outputs": [],
   "source": [
    "import requests\n",
    "\n",
    "url = \"http://192.168.0.126:3001/v1/chat/completions\"\n",
    "\n",
    "payload = {\n",
    "    \"model\": \"gpt-neo-test\",\n",
    "    \"messages\": [\n",
    "        {\"role\": \"system\", \"content\": \"You are a helpful assistant.\"},\n",
    "        {\"role\": \"user\", \"content\": \"Hello, who won the World Cup in 2018?\"}\n",
    "    ],\n",
    "    \"stream\": False\n",
    "}\n",
    "\n",
    "resp = requests.post(url, json=payload)\n",
    "print(resp.json())"
   ]
  }
 ],
 "metadata": {
  "kernelspec": {
   "display_name": "python311",
   "language": "python",
   "name": "python3"
  },
  "language_info": {
   "codemirror_mode": {
    "name": "ipython",
    "version": 3
   },
   "file_extension": ".py",
   "mimetype": "text/x-python",
   "name": "python",
   "nbconvert_exporter": "python",
   "pygments_lexer": "ipython3",
   "version": "3.11.3"
  }
 },
 "nbformat": 4,
 "nbformat_minor": 5
}
