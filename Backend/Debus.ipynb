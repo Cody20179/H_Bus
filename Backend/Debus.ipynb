{
 "cells": [
  {
   "cell_type": "markdown",
   "id": "8573b928",
   "metadata": {},
   "source": [
    "# SQL\n"
   ]
  },
  {
   "cell_type": "code",
   "execution_count": 21,
   "id": "0bf4db46",
   "metadata": {},
   "outputs": [
    {
     "data": {
      "text/html": [
       "<div>\n",
       "<style scoped>\n",
       "    .dataframe tbody tr th:only-of-type {\n",
       "        vertical-align: middle;\n",
       "    }\n",
       "\n",
       "    .dataframe tbody tr th {\n",
       "        vertical-align: top;\n",
       "    }\n",
       "\n",
       "    .dataframe thead th {\n",
       "        text-align: right;\n",
       "    }\n",
       "</style>\n",
       "<table border=\"1\" class=\"dataframe\">\n",
       "  <thead>\n",
       "    <tr style=\"text-align: right;\">\n",
       "      <th></th>\n",
       "      <th>user_id</th>\n",
       "      <th>line_id</th>\n",
       "      <th>username</th>\n",
       "      <th>password</th>\n",
       "      <th>email</th>\n",
       "      <th>phone</th>\n",
       "      <th>created_at</th>\n",
       "      <th>updated_at</th>\n",
       "      <th>last_login</th>\n",
       "      <th>status</th>\n",
       "      <th>reservation_status</th>\n",
       "      <th>preferences</th>\n",
       "      <th>privacy_settings</th>\n",
       "      <th>session_token</th>\n",
       "    </tr>\n",
       "  </thead>\n",
       "  <tbody>\n",
       "    <tr>\n",
       "      <th>0</th>\n",
       "      <td>132</td>\n",
       "      <td>Ufbcae02cac062d99d8bee745a0b4fc97</td>\n",
       "      <td>陳泰霖</td>\n",
       "      <td></td>\n",
       "      <td>Cody20179@gmail.com</td>\n",
       "      <td>0919000660</td>\n",
       "      <td>2025-09-14 20:07:49</td>\n",
       "      <td>2025-09-19 17:33:20</td>\n",
       "      <td>2025-09-19 17:33:20</td>\n",
       "      <td>active</td>\n",
       "      <td>no_reservation</td>\n",
       "      <td>None</td>\n",
       "      <td>None</td>\n",
       "      <td>eyJ1aWQiOiJVZmJjYWUwMmNhYzA2MmQ5OWQ4YmVlNzQ1YT...</td>\n",
       "    </tr>\n",
       "  </tbody>\n",
       "</table>\n",
       "</div>"
      ],
      "text/plain": [
       "   user_id                            line_id username password  \\\n",
       "0      132  Ufbcae02cac062d99d8bee745a0b4fc97      陳泰霖            \n",
       "\n",
       "                 email       phone          created_at          updated_at  \\\n",
       "0  Cody20179@gmail.com  0919000660 2025-09-14 20:07:49 2025-09-19 17:33:20   \n",
       "\n",
       "           last_login  status reservation_status preferences privacy_settings  \\\n",
       "0 2025-09-19 17:33:20  active     no_reservation        None             None   \n",
       "\n",
       "                                       session_token  \n",
       "0  eyJ1aWQiOiJVZmJjYWUwMmNhYzA2MmQ5OWQ4YmVlNzQ1YT...  "
      ]
     },
     "execution_count": 21,
     "metadata": {},
     "output_type": "execute_result"
    }
   ],
   "source": [
    "from MySQL import MySQL_Run\n",
    "import pandas as pd\n",
    "\n",
    "Show_T = \"show tables\"\n",
    "Select = f\"select * from users where user_id = '132';\"\n",
    "Select_Sent = f\"\"\"SELECT *\n",
    "FROM reservation\n",
    "WHERE user_id = '132'\n",
    "  AND review_status = 'approved'\n",
    "  AND DATE(booking_time) = CURDATE();\n",
    "\"\"\"\n",
    "Updata = f\"\"\"\n",
    "UPDATE reservation\n",
    "SET cancel_reason = 'I Dont wanna go to hualien'\n",
    "WHERE reservation_id = 37;\n",
    "\"\"\"\n",
    "Delete = \"\"\"DELETE FROM users\n",
    "WHERE user_id = '124';\n",
    "\"\"\"\n",
    "Insert = \"insert into reservation ({Res}) values ({Val})\"\n",
    "\n",
    "\n",
    "Results = MySQL_Run(Select)\n",
    "df = pd.DataFrame(Results)\n",
    "df"
   ]
  },
  {
   "cell_type": "code",
   "execution_count": null,
   "id": "544cd67a",
   "metadata": {},
   "outputs": [
    {
     "name": "stdout",
     "output_type": "stream",
     "text": [
      "   reservation_id  user_id        booking_time  booking_number  \\\n",
      "0               8        1 2025-09-20 22:39:00               1   \n",
      "1              37      132 2025-09-20 00:30:00               1   \n",
      "\n",
      "  booking_start_station_name booking_end_station_name payment_method  \\\n",
      "0                        將軍府                   花蓮觀光漁港           None   \n",
      "1                    又一村文創園區                 文化創意產業園區           None   \n",
      "\n",
      "  payment_record payment_status review_status dispatch_status  \\\n",
      "0           None        pending      approved    not_assigned   \n",
      "1           None        pending      approved    not_assigned   \n",
      "\n",
      "   reservation_status cancel_reason          created_at          updated_at  \n",
      "0                   0          None 2025-09-08 14:41:56 2025-09-20 16:38:20  \n",
      "1                   0       不想去花蓮了啦 2025-09-19 17:32:52 2025-09-20 16:36:20  \n"
     ]
    },
    {
     "data": {
      "text/html": [
       "<div>\n",
       "<style scoped>\n",
       "    .dataframe tbody tr th:only-of-type {\n",
       "        vertical-align: middle;\n",
       "    }\n",
       "\n",
       "    .dataframe tbody tr th {\n",
       "        vertical-align: top;\n",
       "    }\n",
       "\n",
       "    .dataframe thead th {\n",
       "        text-align: right;\n",
       "    }\n",
       "</style>\n",
       "<table border=\"1\" class=\"dataframe\">\n",
       "  <thead>\n",
       "    <tr style=\"text-align: right;\">\n",
       "      <th></th>\n",
       "      <th>email</th>\n",
       "    </tr>\n",
       "  </thead>\n",
       "  <tbody>\n",
       "    <tr>\n",
       "      <th>0</th>\n",
       "      <td>Cody20179@gmail.com</td>\n",
       "    </tr>\n",
       "    <tr>\n",
       "      <th>1</th>\n",
       "      <td>Cody20179@gmail.com</td>\n",
       "    </tr>\n",
       "  </tbody>\n",
       "</table>\n",
       "</div>"
      ],
      "text/plain": [
       "                 email\n",
       "0  Cody20179@gmail.com\n",
       "1  Cody20179@gmail.com"
      ]
     },
     "execution_count": 34,
     "metadata": {},
     "output_type": "execute_result"
    }
   ],
   "source": [
    "from MySQL import MySQL_Run\n",
    "import pandas as pd\n",
    "\n",
    "Select_Sent = f\"\"\"SELECT *\n",
    "FROM reservation\n",
    "WHERE review_status = 'approved'\n",
    "AND DATE(booking_time) = CURDATE()\n",
    "user_id = '132';\n",
    "\"\"\"\n",
    "Results = MySQL_Run(Select_Sent)\n",
    "res_today = pd.DataFrame(Results)\n",
    "print(res_today)\n",
    "\n",
    "user_ids = res_today[\"user_id\"].tolist()\n",
    "id_list_str = \",\".join([f\"'{uid}'\" for uid in user_ids])\n",
    "\n",
    "Sent = f\"SELECT email FROM users WHERE user_id IN ({id_list_str})\"\n",
    "Results = MySQL_Run(Sent)\n",
    "res_touser = pd.DataFrame(Results)\n",
    "res_touser"
   ]
  },
  {
   "cell_type": "code",
   "execution_count": null,
   "id": "5cb182e3",
   "metadata": {},
   "outputs": [
    {
     "data": {
      "text/html": [
       "<div>\n",
       "<style scoped>\n",
       "    .dataframe tbody tr th:only-of-type {\n",
       "        vertical-align: middle;\n",
       "    }\n",
       "\n",
       "    .dataframe tbody tr th {\n",
       "        vertical-align: top;\n",
       "    }\n",
       "\n",
       "    .dataframe thead th {\n",
       "        text-align: right;\n",
       "    }\n",
       "</style>\n",
       "<table border=\"1\" class=\"dataframe\">\n",
       "  <thead>\n",
       "    <tr style=\"text-align: right;\">\n",
       "      <th></th>\n",
       "      <th>reservation_id</th>\n",
       "      <th>user_id</th>\n",
       "      <th>booking_time</th>\n",
       "      <th>booking_number</th>\n",
       "      <th>booking_start_station_name</th>\n",
       "      <th>booking_end_station_name</th>\n",
       "      <th>payment_method</th>\n",
       "      <th>payment_record</th>\n",
       "      <th>payment_status</th>\n",
       "      <th>review_status</th>\n",
       "      <th>dispatch_status</th>\n",
       "      <th>reservation_status</th>\n",
       "      <th>cancel_reason</th>\n",
       "      <th>created_at</th>\n",
       "      <th>updated_at</th>\n",
       "    </tr>\n",
       "  </thead>\n",
       "  <tbody>\n",
       "    <tr>\n",
       "      <th>0</th>\n",
       "      <td>34</td>\n",
       "      <td>132</td>\n",
       "      <td>2025-09-22 00:15:00</td>\n",
       "      <td>1</td>\n",
       "      <td>花蓮轉運站</td>\n",
       "      <td>花蓮港山林事業所</td>\n",
       "      <td>None</td>\n",
       "      <td>None</td>\n",
       "      <td>pending</td>\n",
       "      <td>approved</td>\n",
       "      <td>not_assigned</td>\n",
       "      <td>0</td>\n",
       "      <td>None</td>\n",
       "      <td>2025-09-19 16:38:52</td>\n",
       "      <td>2025-09-21 13:59:55</td>\n",
       "    </tr>\n",
       "    <tr>\n",
       "      <th>1</th>\n",
       "      <td>37</td>\n",
       "      <td>132</td>\n",
       "      <td>2025-09-22 00:30:00</td>\n",
       "      <td>1</td>\n",
       "      <td>又一村文創園區</td>\n",
       "      <td>文化創意產業園區</td>\n",
       "      <td>None</td>\n",
       "      <td>None</td>\n",
       "      <td>pending</td>\n",
       "      <td>approved</td>\n",
       "      <td>not_assigned</td>\n",
       "      <td>0</td>\n",
       "      <td>不想去花蓮了啦</td>\n",
       "      <td>2025-09-19 17:32:52</td>\n",
       "      <td>2025-09-21 13:59:15</td>\n",
       "    </tr>\n",
       "    <tr>\n",
       "      <th>2</th>\n",
       "      <td>38</td>\n",
       "      <td>132</td>\n",
       "      <td>2025-09-22 00:10:00</td>\n",
       "      <td>3</td>\n",
       "      <td>花蓮轉運站</td>\n",
       "      <td>又一村文創園區</td>\n",
       "      <td>None</td>\n",
       "      <td>None</td>\n",
       "      <td>pending</td>\n",
       "      <td>approved</td>\n",
       "      <td>not_assigned</td>\n",
       "      <td>0</td>\n",
       "      <td>Rich不讓我去</td>\n",
       "      <td>2025-09-20 14:32:20</td>\n",
       "      <td>2025-09-21 13:58:51</td>\n",
       "    </tr>\n",
       "  </tbody>\n",
       "</table>\n",
       "</div>"
      ],
      "text/plain": [
       "   reservation_id  user_id        booking_time  booking_number  \\\n",
       "0              34      132 2025-09-22 00:15:00               1   \n",
       "1              37      132 2025-09-22 00:30:00               1   \n",
       "2              38      132 2025-09-22 00:10:00               3   \n",
       "\n",
       "  booking_start_station_name booking_end_station_name payment_method  \\\n",
       "0                      花蓮轉運站                 花蓮港山林事業所           None   \n",
       "1                    又一村文創園區                 文化創意產業園區           None   \n",
       "2                      花蓮轉運站                  又一村文創園區           None   \n",
       "\n",
       "  payment_record payment_status review_status dispatch_status  \\\n",
       "0           None        pending      approved    not_assigned   \n",
       "1           None        pending      approved    not_assigned   \n",
       "2           None        pending      approved    not_assigned   \n",
       "\n",
       "   reservation_status cancel_reason          created_at          updated_at  \n",
       "0                   0          None 2025-09-19 16:38:52 2025-09-21 13:59:55  \n",
       "1                   0       不想去花蓮了啦 2025-09-19 17:32:52 2025-09-21 13:59:15  \n",
       "2                   0      Rich不讓我去 2025-09-20 14:32:20 2025-09-21 13:58:51  "
      ]
     },
     "execution_count": 42,
     "metadata": {},
     "output_type": "execute_result"
    }
   ],
   "source": [
    "from MySQL import MySQL_Run\n",
    "import pandas as pd\n",
    "\n",
    "Select_Sent = f\"\"\"\n",
    "SELECT *\n",
    "FROM reservation\n",
    "WHERE review_status = 'approved'\n",
    "  AND DATE(booking_time) = DATE_ADD(CURDATE(), INTERVAL 1 DAY)\n",
    "  AND user_id = '132';\n",
    "\"\"\"\n",
    "Results = MySQL_Run(Select_Sent)\n",
    "res_tomorrow = pd.DataFrame(Results)\n",
    "res_tomorrow.tail()\n",
    "\n",
    "\n",
    "@api.get(\"/reservations/tomorrow\", tags=[\"Client\"], summary=\"預約查詢\")\n",
    "def tomorrow_reservations(user_id: str):\n",
    "    sql = f\"\"\"\n",
    "    SELECT reservation_id, user_id, booking_time, booking_number, \n",
    "           booking_start_station_name, booking_end_station_name,\n",
    "           review_status, payment_status\n",
    "    FROM reservation where \n",
    "    review_status = 'approved' AND\n",
    "    DATE(booking_time) = DATE_ADD(CURDATE(), INTERVAL 1 DAY) AND\n",
    "    user_id = '{user_id}'\n",
    "    \"\"\"\n",
    "    results = MySQL_Run(sql)\n",
    "\n",
    "    return {\"status\": \"success\", \"sql\": results}\n"
   ]
  },
  {
   "cell_type": "code",
   "execution_count": 28,
   "id": "dafec2b9",
   "metadata": {},
   "outputs": [
    {
     "data": {
      "text/plain": [
       "[1, 132]"
      ]
     },
     "execution_count": 28,
     "metadata": {},
     "output_type": "execute_result"
    }
   ],
   "source": [
    "res_today[\"user_id\"].tolist()"
   ]
  },
  {
   "cell_type": "code",
   "execution_count": 25,
   "id": "5af66803",
   "metadata": {},
   "outputs": [
    {
     "data": {
      "text/plain": [
       "0      1\n",
       "1    132\n",
       "Name: user_id, dtype: int64"
      ]
     },
     "execution_count": 25,
     "metadata": {},
     "output_type": "execute_result"
    }
   ],
   "source": [
    "res_today[\"user_id\"]"
   ]
  },
  {
   "cell_type": "code",
   "execution_count": null,
   "id": "0c0a9706",
   "metadata": {},
   "outputs": [],
   "source": [
    "Results = MySQL_Run(\"desc reservation\")\n",
    "df = pd.DataFrame(Results)\n",
    "df"
   ]
  },
  {
   "cell_type": "markdown",
   "id": "0534001c",
   "metadata": {},
   "source": [
    "# Redis"
   ]
  },
  {
   "cell_type": "code",
   "execution_count": 8,
   "id": "c0e3b95a",
   "metadata": {},
   "outputs": [
    {
     "name": "stdout",
     "output_type": "stream",
     "text": [
      "b'bar'\n"
     ]
    }
   ],
   "source": [
    "import redis\n",
    "\n",
    "r = redis.Redis(host=\"127.0.0.1\", port=6379, db=0)\n",
    "r.set(\"foo\", \"bar\")\n",
    "print(r.get(\"foo\"))\n"
   ]
  },
  {
   "cell_type": "markdown",
   "id": "2004861e",
   "metadata": {},
   "source": [
    "# Bus SQL\n"
   ]
  },
  {
   "cell_type": "code",
   "execution_count": 17,
   "id": "a4612b72",
   "metadata": {},
   "outputs": [
    {
     "data": {
      "text/plain": [
       "()"
      ]
     },
     "execution_count": 17,
     "metadata": {},
     "output_type": "execute_result"
    }
   ],
   "source": [
    "import pandas as pd\n",
    "import pymysql\n",
    "\n",
    "Infor = {\n",
    " 'host': '43.212.245.102',\n",
    " 'user': 'root',\n",
    " 'port': 3306,\n",
    " 'password': 'dnuiOKd217hdio',\n",
    " 'database': 'Hualien_Bus',\n",
    " }\n",
    "\n",
    "def init(Parameter):\n",
    "    mydb = pymysql.connect(\n",
    "        host=Parameter[\"host\"],\n",
    "        user=Parameter[\"user\"],\n",
    "        port=Parameter[\"port\"],\n",
    "        password=Parameter[\"password\"],\n",
    "        database=Parameter[\"database\"],\n",
    "        charset=\"utf8mb4\",\n",
    "        cursorclass=pymysql.cursors.DictCursor\n",
    "    )\n",
    "    return mydb\n",
    "\n",
    "def MySQL_Run(query, Parameter=Infor):\n",
    "    mydb = init(Parameter)\n",
    "    mycursor = mydb.cursor()\n",
    "    mycursor.execute(query)\n",
    "\n",
    "    if query.strip().lower().startswith((\"select\", \"show\", \"desc\")):\n",
    "        result = mycursor.fetchall()\n",
    "    else:\n",
    "        mydb.commit()\n",
    "        result = \"Query executed.\"\n",
    "\n",
    "    mycursor.close()\n",
    "    mydb.close()\n",
    "\n",
    "    return (result)\n",
    "\n",
    "MySQL_Run(\"\"\"\n",
    "show tables\n",
    "\"\"\")\n",
    "MySQL_Run(\"\"\"\n",
    "select * from ttcarimport\n",
    "\"\"\")"
   ]
  },
  {
   "cell_type": "code",
   "execution_count": null,
   "id": "c01f27a8",
   "metadata": {},
   "outputs": [],
   "source": []
  }
 ],
 "metadata": {
  "kernelspec": {
   "display_name": "python311",
   "language": "python",
   "name": "python3"
  },
  "language_info": {
   "codemirror_mode": {
    "name": "ipython",
    "version": 3
   },
   "file_extension": ".py",
   "mimetype": "text/x-python",
   "name": "python",
   "nbconvert_exporter": "python",
   "pygments_lexer": "ipython3",
   "version": "3.11.3"
  }
 },
 "nbformat": 4,
 "nbformat_minor": 5
}
