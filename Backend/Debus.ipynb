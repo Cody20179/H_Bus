{
 "cells": [
  {
   "cell_type": "code",
   "execution_count": 2,
   "id": "0bf4db46",
   "metadata": {},
   "outputs": [
    {
     "data": {
      "text/plain": [
       "[{'Tables_in_bus_system': 'action_tour_hualien'},\n",
       " {'Tables_in_bus_system': 'admin_roles'},\n",
       " {'Tables_in_bus_system': 'admin_users'},\n",
       " {'Tables_in_bus_system': 'bus_route_stations'},\n",
       " {'Tables_in_bus_system': 'bus_routes'},\n",
       " {'Tables_in_bus_system': 'bus_routes_total'},\n",
       " {'Tables_in_bus_system': 'login_state'},\n",
       " {'Tables_in_bus_system': 'reservation'},\n",
       " {'Tables_in_bus_system': 'reservation_record'},\n",
       " {'Tables_in_bus_system': 'reservation_table'},\n",
       " {'Tables_in_bus_system': 'users'},\n",
       " {'Tables_in_bus_system': 'users_test'}]"
      ]
     },
     "execution_count": 2,
     "metadata": {},
     "output_type": "execute_result"
    }
   ],
   "source": [
    "from MySQL import MySQL_Run\n",
    "\n",
    "MySQL_Run(\"show tables\")"
   ]
  },
  {
   "cell_type": "code",
   "execution_count": 7,
   "id": "fad924c8",
   "metadata": {},
   "outputs": [
    {
     "data": {
      "text/plain": [
       "'Query executed.'"
      ]
     },
     "execution_count": 7,
     "metadata": {},
     "output_type": "execute_result"
    }
   ],
   "source": [
    "MySQL_Run(\"\"\"DELETE FROM users\n",
    "WHERE user_id = '124';\n",
    "\"\"\")"
   ]
  },
  {
   "cell_type": "code",
   "execution_count": 3,
   "id": "03112259",
   "metadata": {},
   "outputs": [
    {
     "data": {
      "text/html": [
       "<div>\n",
       "<style scoped>\n",
       "    .dataframe tbody tr th:only-of-type {\n",
       "        vertical-align: middle;\n",
       "    }\n",
       "\n",
       "    .dataframe tbody tr th {\n",
       "        vertical-align: top;\n",
       "    }\n",
       "\n",
       "    .dataframe thead th {\n",
       "        text-align: right;\n",
       "    }\n",
       "</style>\n",
       "<table border=\"1\" class=\"dataframe\">\n",
       "  <thead>\n",
       "    <tr style=\"text-align: right;\">\n",
       "      <th></th>\n",
       "      <th>user_id</th>\n",
       "      <th>line_id</th>\n",
       "      <th>username</th>\n",
       "      <th>password</th>\n",
       "      <th>email</th>\n",
       "      <th>phone</th>\n",
       "      <th>created_at</th>\n",
       "      <th>updated_at</th>\n",
       "      <th>last_login</th>\n",
       "      <th>status</th>\n",
       "      <th>reservation_status</th>\n",
       "      <th>preferences</th>\n",
       "      <th>privacy_settings</th>\n",
       "      <th>session_token</th>\n",
       "    </tr>\n",
       "  </thead>\n",
       "  <tbody>\n",
       "    <tr>\n",
       "      <th>63</th>\n",
       "      <td>98</td>\n",
       "      <td>Uxxxxxxxxxxx2</td>\n",
       "      <td>Test01</td>\n",
       "      <td>None</td>\n",
       "      <td>None</td>\n",
       "      <td>None</td>\n",
       "      <td>2025-09-13 15:41:06</td>\n",
       "      <td>2025-09-13 15:41:06</td>\n",
       "      <td>NaT</td>\n",
       "      <td>active</td>\n",
       "      <td>no_reservation</td>\n",
       "      <td>None</td>\n",
       "      <td>None</td>\n",
       "      <td>None</td>\n",
       "    </tr>\n",
       "    <tr>\n",
       "      <th>64</th>\n",
       "      <td>99</td>\n",
       "      <td>Uxxxxxxxxxxx3</td>\n",
       "      <td>Test01</td>\n",
       "      <td>None</td>\n",
       "      <td>None</td>\n",
       "      <td>None</td>\n",
       "      <td>2025-09-13 15:42:35</td>\n",
       "      <td>2025-09-13 15:42:35</td>\n",
       "      <td>NaT</td>\n",
       "      <td>active</td>\n",
       "      <td>no_reservation</td>\n",
       "      <td>None</td>\n",
       "      <td>None</td>\n",
       "      <td>None</td>\n",
       "    </tr>\n",
       "    <tr>\n",
       "      <th>65</th>\n",
       "      <td>121</td>\n",
       "      <td>U123</td>\n",
       "      <td>測試用戶</td>\n",
       "      <td>None</td>\n",
       "      <td>None</td>\n",
       "      <td>None</td>\n",
       "      <td>2025-09-14 00:38:27</td>\n",
       "      <td>2025-09-14 00:40:12</td>\n",
       "      <td>2025-09-14 00:40:12</td>\n",
       "      <td>active</td>\n",
       "      <td>no_reservation</td>\n",
       "      <td>None</td>\n",
       "      <td>None</td>\n",
       "      <td>VTEyMzoxNzU3NzgxNjEyLvGQu6_C9jRi1ARGsSa--hUQMj...</td>\n",
       "    </tr>\n",
       "    <tr>\n",
       "      <th>66</th>\n",
       "      <td>132</td>\n",
       "      <td>Ufbcae02cac062d99d8bee745a0b4fc97</td>\n",
       "      <td>陳泰霖</td>\n",
       "      <td></td>\n",
       "      <td>None</td>\n",
       "      <td>None</td>\n",
       "      <td>2025-09-14 20:07:49</td>\n",
       "      <td>2025-09-15 00:06:50</td>\n",
       "      <td>2025-09-15 00:06:50</td>\n",
       "      <td>active</td>\n",
       "      <td>no_reservation</td>\n",
       "      <td>None</td>\n",
       "      <td>None</td>\n",
       "      <td>eyJ1aWQiOiJVZmJjYWUwMmNhYzA2MmQ5OWQ4YmVlNzQ1YT...</td>\n",
       "    </tr>\n",
       "    <tr>\n",
       "      <th>67</th>\n",
       "      <td>133</td>\n",
       "      <td>U7fcf96cb2c6e58fe08b8c93076e04afb</td>\n",
       "      <td>楊文毅</td>\n",
       "      <td></td>\n",
       "      <td>None</td>\n",
       "      <td>None</td>\n",
       "      <td>2025-09-14 20:10:59</td>\n",
       "      <td>2025-09-14 22:54:47</td>\n",
       "      <td>2025-09-14 22:54:47</td>\n",
       "      <td>active</td>\n",
       "      <td>no_reservation</td>\n",
       "      <td>None</td>\n",
       "      <td>None</td>\n",
       "      <td>eyJ1aWQiOiJVN2ZjZjk2Y2IyYzZlNThmZTA4YjhjOTMwNz...</td>\n",
       "    </tr>\n",
       "  </tbody>\n",
       "</table>\n",
       "</div>"
      ],
      "text/plain": [
       "    user_id                            line_id username password email phone  \\\n",
       "63       98                      Uxxxxxxxxxxx2   Test01     None  None  None   \n",
       "64       99                      Uxxxxxxxxxxx3   Test01     None  None  None   \n",
       "65      121                               U123     測試用戶     None  None  None   \n",
       "66      132  Ufbcae02cac062d99d8bee745a0b4fc97      陳泰霖           None  None   \n",
       "67      133  U7fcf96cb2c6e58fe08b8c93076e04afb      楊文毅           None  None   \n",
       "\n",
       "            created_at          updated_at          last_login  status  \\\n",
       "63 2025-09-13 15:41:06 2025-09-13 15:41:06                 NaT  active   \n",
       "64 2025-09-13 15:42:35 2025-09-13 15:42:35                 NaT  active   \n",
       "65 2025-09-14 00:38:27 2025-09-14 00:40:12 2025-09-14 00:40:12  active   \n",
       "66 2025-09-14 20:07:49 2025-09-15 00:06:50 2025-09-15 00:06:50  active   \n",
       "67 2025-09-14 20:10:59 2025-09-14 22:54:47 2025-09-14 22:54:47  active   \n",
       "\n",
       "   reservation_status preferences privacy_settings  \\\n",
       "63     no_reservation        None             None   \n",
       "64     no_reservation        None             None   \n",
       "65     no_reservation        None             None   \n",
       "66     no_reservation        None             None   \n",
       "67     no_reservation        None             None   \n",
       "\n",
       "                                        session_token  \n",
       "63                                               None  \n",
       "64                                               None  \n",
       "65  VTEyMzoxNzU3NzgxNjEyLvGQu6_C9jRi1ARGsSa--hUQMj...  \n",
       "66  eyJ1aWQiOiJVZmJjYWUwMmNhYzA2MmQ5OWQ4YmVlNzQ1YT...  \n",
       "67  eyJ1aWQiOiJVN2ZjZjk2Y2IyYzZlNThmZTA4YjhjOTMwNz...  "
      ]
     },
     "execution_count": 3,
     "metadata": {},
     "output_type": "execute_result"
    }
   ],
   "source": [
    "import pandas as pd\n",
    "\n",
    "Results = MySQL_Run(f\"select * from users\")\n",
    "df = pd.DataFrame(Results)\n",
    "df.tail()"
   ]
  },
  {
   "cell_type": "code",
   "execution_count": null,
   "id": "53708a54",
   "metadata": {},
   "outputs": [],
   "source": [
    "import pandas as pd\n",
    "\n",
    "Res = \"user_id, booking_time, booking_number, booking_start_station_name, booking_end_station_name\"\n",
    "Res2 = \"user_id, booking_time, booking_number, booking_start_station_name, booking_end_station_name, review_status, payment_status\"\n",
    "Val = \"1, '2002-06-20 10:00:00', '150', '工109', '工515'\"\n",
    "\n",
    "def Show_Resarvation(Res2):\n",
    "    Results = MySQL_Run(f\"select {Res2} from reservation\")\n",
    "    df = pd.DataFrame(Results)\n",
    "    return df\n",
    "\n",
    "def Push_Resarvation(Val):\n",
    "    sql = f\"insert into reservation ({Res}) values ({Val})\"\n",
    "    MySQL_Run(sql)\n",
    "    return \"Success\"\n",
    "\n",
    "# Push_Resarvation(Val)\n",
    "Show_Resarvation(Res2)"
   ]
  },
  {
   "cell_type": "code",
   "execution_count": 4,
   "id": "a5226fcf",
   "metadata": {},
   "outputs": [
    {
     "data": {
      "text/plain": [
       "[{'user_id': 132,\n",
       "  'booking_time': datetime.datetime(2025, 9, 16, 11, 39),\n",
       "  'booking_number': 1,\n",
       "  'booking_start_station_name': '花蓮轉運站',\n",
       "  'booking_end_station_name': '將軍府',\n",
       "  'review_status': 'pending',\n",
       "  'payment_status': 'pending'},\n",
       " {'user_id': 132,\n",
       "  'booking_time': datetime.datetime(2025, 9, 15, 20, 8),\n",
       "  'booking_number': 1,\n",
       "  'booking_start_station_name': '花蓮轉運站',\n",
       "  'booking_end_station_name': '花蓮港景觀橋',\n",
       "  'review_status': 'approved',\n",
       "  'payment_status': 'paid'}]"
      ]
     },
     "execution_count": 4,
     "metadata": {},
     "output_type": "execute_result"
    }
   ],
   "source": [
    "sql = \"\"\"\n",
    "SELECT user_id, booking_time, booking_number, \n",
    "        booking_start_station_name, booking_end_station_name,\n",
    "        review_status, payment_status\n",
    "FROM reservation where user_id = '132' order by created_at desc\n",
    "\"\"\"\n",
    "results = MySQL_Run(sql)\n",
    "results"
   ]
  },
  {
   "cell_type": "code",
   "execution_count": 12,
   "id": "1ad4b213",
   "metadata": {},
   "outputs": [
    {
     "data": {
      "text/plain": [
       "()"
      ]
     },
     "execution_count": 12,
     "metadata": {},
     "output_type": "execute_result"
    }
   ],
   "source": [
    "db_check = MySQL_Run(f\"SELECT 1 FROM users WHERE line_id='132' LIMIT 1;\")\n",
    "db_check"
   ]
  },
  {
   "cell_type": "code",
   "execution_count": null,
   "id": "a7e543b2",
   "metadata": {},
   "outputs": [],
   "source": []
  }
 ],
 "metadata": {
  "kernelspec": {
   "display_name": "python311",
   "language": "python",
   "name": "python3"
  },
  "language_info": {
   "codemirror_mode": {
    "name": "ipython",
    "version": 3
   },
   "file_extension": ".py",
   "mimetype": "text/x-python",
   "name": "python",
   "nbconvert_exporter": "python",
   "pygments_lexer": "ipython3",
   "version": "3.11.3"
  }
 },
 "nbformat": 4,
 "nbformat_minor": 5
}
