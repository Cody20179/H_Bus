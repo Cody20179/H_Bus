{
 "cells": [
  {
   "cell_type": "markdown",
   "id": "8573b928",
   "metadata": {},
   "source": [
    "# SQL\n"
   ]
  },
  {
   "cell_type": "code",
   "execution_count": 3,
   "id": "31925ff4",
   "metadata": {},
   "outputs": [
    {
     "name": "stdout",
     "output_type": "stream",
     "text": [
      "已產生: qrcodes\\route2_stop1.png → https://f1c2fbf338af.ngrok-free.app/routes/2/stop/1\n",
      "已產生: qrcodes\\route2_stop2.png → https://f1c2fbf338af.ngrok-free.app/routes/2/stop/2\n",
      "已產生: qrcodes\\route2_stop3.png → https://f1c2fbf338af.ngrok-free.app/routes/2/stop/3\n",
      "已產生: qrcodes\\route2_stop4.png → https://f1c2fbf338af.ngrok-free.app/routes/2/stop/4\n",
      "已產生: qrcodes\\route2_stop5.png → https://f1c2fbf338af.ngrok-free.app/routes/2/stop/5\n",
      "已產生: qrcodes\\route2_stop6.png → https://f1c2fbf338af.ngrok-free.app/routes/2/stop/6\n",
      "已產生: qrcodes\\route2_stop7.png → https://f1c2fbf338af.ngrok-free.app/routes/2/stop/7\n",
      "已產生: qrcodes\\route2_stop8.png → https://f1c2fbf338af.ngrok-free.app/routes/2/stop/8\n"
     ]
    }
   ],
   "source": [
    "import qrcode\n",
    "import os\n",
    "\n",
    "def generate_qr_codes(base_url, route_id, stop_count, out_dir=\"qrcodes\"):\n",
    "    os.makedirs(out_dir, exist_ok=True)\n",
    "\n",
    "    for stop_order in range(1, stop_count + 1):\n",
    "        url = f\"{base_url}/routes/{route_id}/stop/{stop_order}\"\n",
    "        img = qrcode.make(url)\n",
    "        filename = os.path.join(out_dir, f\"route{route_id}_stop{stop_order}.png\")\n",
    "        img.save(filename)\n",
    "        print(\"已產生:\", filename, \"→\", url)\n",
    "\n",
    "# 使用範例\n",
    "if __name__ == \"__main__\":\n",
    "    # 你的 ngrok host，或正式網域\n",
    "    base = \"https://f1c2fbf338af.ngrok-free.app\"\n",
    "    generate_qr_codes(base_url=base, route_id=2, stop_count=8)\n"
   ]
  },
  {
   "cell_type": "code",
   "execution_count": 4,
   "id": "f9215dc0",
   "metadata": {},
   "outputs": [
    {
     "name": "stdout",
     "output_type": "stream",
     "text": [
      "加密後 TransactionData: LwIo/f0GsJQ1mLLlWKTqJsoi5qsxSApZKfjpXToaReHNFDMcw560TLVvIOVcIt6NDQyc8YwnCu8tECEJaTJqG1FP1rI/0wYlJeQR1p1Dw8CqA84ySf6IrrHROz3beuJ3QiZF7sYbCxglkz/jbpr9RxfUrt9RQQ8zf3ZmAcWLeMs9J6ryCBIfx+p3XWEk2T0jXyFz/um3DAOK9miKcbQpeA==\n",
      "校驗碼 HashDigest: 98c15532d725f6135887ce75b867333697f89406bd253fe25192768854434556\n",
      "請求網址： https://[雷門API網址]/calc/pay_encrypt/e4f76eb8-d236-45fb-984b-92b2d1912492 {'TransactionData': 'LwIo/f0GsJQ1mLLlWKTqJsoi5qsxSApZKfjpXToaReHNFDMcw560TLVvIOVcIt6NDQyc8YwnCu8tECEJaTJqG1FP1rI/0wYlJeQR1p1Dw8CqA84ySf6IrrHROz3beuJ3QiZF7sYbCxglkz/jbpr9RxfUrt9RQQ8zf3ZmAcWLeMs9J6ryCBIfx%2Bp3XWEk2T0jXyFz/um3DAOK9miKcbQpeA%3D%3D', 'HashDigest': '98c15532d725f6135887ce75b867333697f89406bd253fe25192768854434556'}\n"
     ]
    }
   ],
   "source": [
    "import requests\n",
    "import json\n",
    "import hashlib\n",
    "from base64 import b64encode, b64decode\n",
    "from Crypto.Cipher import AES\n",
    "from urllib.parse import quote\n",
    "\n",
    "# ==== 你的參數 (請替換成表格上的資料) ====\n",
    "MERCHANT_ID = \"106952201270001\"   # RG商代\n",
    "TERMINAL_ID = \"70002146\"          # RG端代\n",
    "STORE_CODE  = \"e4f76eb8-d236-45fb-984b-92b2d1912492\"  # 店家識別碼\n",
    "KEY = bytes.fromhex(\"3abae022acd6fc873821411c0b402c0fbe90d90bdda295ed15296f8ae465bf8b\")  # 端末設備Key (hex)\n",
    "IV  = bytes.fromhex(\"12fe9f5e0c3cc7c664894f19ba265050\")  # 端末設備IV (hex，記得補齊完整)\n",
    "LAYMON = \"https://iqrc.epay365.com.tw/\"\n",
    "# ==== 測試交易資料 ====\n",
    "payload = {\n",
    "    \"set_price\": \"100\",\n",
    "    \"pos_order_number\": \"TEST12345\",   # 自訂訂單編號，不可重複\n",
    "    \"callback_url\": \"https://yourdomain.com/callback\",\n",
    "    \"return_url\": \"https://yourdomain.com/return\"\n",
    "}\n",
    "\n",
    "# --- AES256-CBC 加密 ---\n",
    "def pad(s):\n",
    "    pad_len = 16 - (len(s) % 16)\n",
    "    return s + chr(pad_len) * pad_len\n",
    "\n",
    "def unpad(s):\n",
    "    return s[:-ord(s[-1])]\n",
    "\n",
    "def encrypt_aes(data: str, key: bytes, iv: bytes) -> str:\n",
    "    cipher = AES.new(key, AES.MODE_CBC, iv)\n",
    "    ct_bytes = cipher.encrypt(pad(data).encode(\"utf-8\"))\n",
    "    return b64encode(ct_bytes).decode(\"utf-8\")\n",
    "\n",
    "def decrypt_aes(enc: str, key: bytes, iv: bytes) -> str:\n",
    "    cipher = AES.new(key, AES.MODE_CBC, iv)\n",
    "    pt = cipher.decrypt(b64decode(enc))\n",
    "    return unpad(pt.decode(\"utf-8\"))\n",
    "\n",
    "# --- 加密交易資料 ---\n",
    "json_str = json.dumps(payload, separators=(',', ':'))\n",
    "TransactionData = encrypt_aes(json_str, KEY, IV)\n",
    "HashDigest = hashlib.sha256(TransactionData.encode(\"utf-8\")).hexdigest()\n",
    "\n",
    "print(\"加密後 TransactionData:\", TransactionData)\n",
    "print(\"校驗碼 HashDigest:\", HashDigest)\n",
    "\n",
    "# --- 發送 API (線上付款) ---\n",
    "url = f\"https://[雷門API網址]/calc/pay_encrypt/{STORE_CODE}\"\n",
    "params = {\n",
    "    \"TransactionData\": quote(TransactionData),  # URL encode\n",
    "    \"HashDigest\": HashDigest\n",
    "}\n",
    "\n",
    "print(\"請求網址：\", url, params)\n",
    "\n",
    "# ⚠️ 測試時可先列印，不要真的發送\n",
    "# response = requests.get(url, params=params)\n",
    "# print(response.text)\n"
   ]
  },
  {
   "cell_type": "markdown",
   "id": "7903e2d4",
   "metadata": {},
   "source": [
    "wacs.exe --target manual --host hualenbus.labelnine.app --validation cloudflare --validationmode dns-01 --store pemfiles --pemfilespath D:\\certs --cloudflareapitoken Qhqik5_3YR4QhSn1xznX05_ftbzX9UWB0Egiernw\n",
    "\n",
    "\n",
    "uvicorn Server:app --host 0.0.0.0 --port 8500 --ssl-keyfile \"D:\\SSL\\hualenbus.labelnine.app-key.pem\" --ssl-certfile \"D:\\SSL\\hualenbus.labelnine.app-chain.pem\"\n"
   ]
  }
 ],
 "metadata": {
  "kernelspec": {
   "display_name": "python311",
   "language": "python",
   "name": "python3"
  },
  "language_info": {
   "codemirror_mode": {
    "name": "ipython",
    "version": 3
   },
   "file_extension": ".py",
   "mimetype": "text/x-python",
   "name": "python",
   "nbconvert_exporter": "python",
   "pygments_lexer": "ipython3",
   "version": "3.11.3"
  }
 },
 "nbformat": 4,
 "nbformat_minor": 5
}
